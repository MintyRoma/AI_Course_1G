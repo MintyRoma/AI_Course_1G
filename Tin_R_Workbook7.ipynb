{
 "cells": [
  {
   "cell_type": "markdown",
   "source": [
    "# Рабочая тетрадь №7"
   ],
   "metadata": {
    "collapsed": false
   }
  },
  {
   "cell_type": "markdown",
   "source": [
    "## Нейронные сети\n",
    "### Обучение персептрона\n",
    "Персептрон представляет собой элементарную часть нейронной сети.\n",
    "Одиночный персептрон является линейным бинарным классификатором. В\n",
    "этой лекции мы рассмотрим процедуру обучения персептрона для\n",
    "классификации данных. Поскольку персептрон представляет собой\n",
    "бинарный классификатор, то мы будем рассматривать лишь два класса.\n",
    "Пусть мы рассматриваем некоторое множество (конечное или\n",
    "бесконечное) n-мерных векторов, которые будем обозначать 𝑥 =\n",
    "(𝑥1, 𝑥2, . . . , 𝑥𝑛)\n",
    "Будем считать, что это множество разбивается на два класса, которые\n",
    "мы будем обозначать +1 и -1. Поэтому возникает задача построения\n",
    "функции, которая задана на нашем множестве векторов, и принимает\n",
    "значения в множестве {+1, −1}. В качестве такой функции может выступать\n",
    "персептрон. С алгебраической точки зрения персептрон состоит из вектора\n",
    "весов 𝑤 = (𝑤0, 𝑤1, 𝑤2, . . . , 𝑤𝑛).\n",
    "При этом персептрон работает по формуле\n",
    "𝑦 = 𝑠𝑖𝑔𝑛(𝑤0 + 𝑥1𝑤1 + 𝑥2𝑤2 + . . . + 𝑥𝑛𝑤𝑛),\n",
    "где функция 𝑠𝑖𝑔𝑛(𝑡) равна +1, если 𝑡 ≥ 0, и равна −1, если 𝑡 < 0.\n",
    "Приведем алгоритм обучения персептрона. Пусть у нас есть набор\n",
    "обучающих данных {(𝑥, 𝑑)}, где 𝑥 - это различные вектора, а 𝑑 из множества\n",
    "{+1, −1} указывает к какому классу относится наш вектор.\n",
    "1. Положим вектор весов 𝑤 равным нулю.\n",
    "2. Повторять 𝑁 раз следующие шаги:\n",
    "3. Для каждого тестового набора (𝑥, 𝑑):\n",
    "4. Вычислить 𝑦 = 𝑠𝑖𝑔𝑛[(𝑥, 𝑤)].\n",
    "5. Если 𝑦𝑑 < 0, то скорректировать веса 𝑤0 = 𝑤0 + 𝑎𝑑, 𝑤𝑖 =\n",
    "𝑤𝑖 + 𝑎𝑑𝑥𝑖\n",
    ", 𝑖 = 1,2, . . . , 𝑛.\n",
    "Описанный алгоритм довольно легко программировать."
   ],
   "metadata": {
    "collapsed": false
   }
  },
  {
   "cell_type": "markdown",
   "source": [
    "### 1.1.1 Пример\n",
    "Рассмотрим программу обучения персептрона на языке Python. Сначала\n",
    "рассмотрим основной класс персептрона, который умеет учиться по\n",
    "тестовым данным."
   ],
   "metadata": {
    "collapsed": false
   }
  },
  {
   "cell_type": "code",
   "execution_count": 5,
   "outputs": [],
   "source": [
    "import math\n",
    "\n",
    "import matplotlib.pyplot as plt\n",
    "\n",
    "\n",
    "class Perceptron:\n",
    "    def __init__(self,N):\n",
    "        self.w=list()\n",
    "        for i in range(N):\n",
    "            self.w.append(0)\n",
    "\n",
    "    def calc(self,x):\n",
    "        res=0\n",
    "        for i in range(len(self.w)):\n",
    "            res=res+self.w[i]*x[i]\n",
    "        return res\n",
    "\n",
    "    def sign(self,x):\n",
    "        if self.calc(x)>0:\n",
    "            return 0\n",
    "        else:\n",
    "            return 1\n",
    "\n",
    "    def learn(self,la,x,y):\n",
    "        if y*self.calc(x)<=0:\n",
    "            for i in range(len(self.w)):\n",
    "                self.w[i]=self.w[i]+la*y*x[i]\n",
    "\n",
    "    def learning(self, la,T):\n",
    "        for n in range(100):\n",
    "            for t in T:\n",
    "                self.learn(la,t[0],t[1])"
   ],
   "metadata": {
    "collapsed": false
   }
  },
  {
   "cell_type": "markdown",
   "source": [
    "В строке 25 мы осуществляем корректировку весов. Посмотрим, как учится\n",
    "и работает наш персептрон."
   ],
   "metadata": {
    "collapsed": false
   }
  },
  {
   "cell_type": "code",
   "execution_count": 6,
   "outputs": [
    {
     "name": "stdout",
     "output_type": "stream",
     "text": [
      "[0.1, -0.1]\n",
      "1\n",
      "0\n",
      "0\n",
      "1\n"
     ]
    }
   ],
   "source": [
    "perceptron = Perceptron(2)\n",
    "la=0.1\n",
    "\n",
    "T = list()\n",
    "T.append([[2,1],1])\n",
    "T.append([[3,2],1])\n",
    "T.append([[4,1],1])\n",
    "T.append([[1,2],-1])\n",
    "T.append([[2,3],-1])\n",
    "T.append([[5,7],-1])\n",
    "perceptron.learning(la,T)\n",
    "print(perceptron.w)\n",
    "print(perceptron.sign([1.5,2]))\n",
    "print(perceptron.sign([3,1.5]))\n",
    "print(perceptron.sign([5,1]))\n",
    "print(perceptron.sign([5,10]))"
   ],
   "metadata": {
    "collapsed": false
   }
  },
  {
   "cell_type": "markdown",
   "source": [
    "Видим, что что наш персептрон отлично научился распознавать образы,\n",
    "относя к классу 1 те вектора, у которых первая компонента больше второй,\n",
    "и к классу -1 в противном случае. Хотя устройство персептронов довольно\n",
    "простое эти конструкции могут решать и практические задачи. Кроме того,\n",
    "из таких персептронов состоят нейронные сети."
   ],
   "metadata": {
    "collapsed": false
   }
  },
  {
   "cell_type": "markdown",
   "source": [
    "## Теоретический материал – Реализация нейронной сети на Python\n",
    "Нейронная сеть — это функциональная единица машинного или\n",
    "глубокого обучения. Она имитирует поведение человеческого мозга,\n",
    "поскольку основана на концепции биологических нейронных сетей.\n",
    "Наиболее распространенный тип нейронной сети, называемый\n",
    "многослойным персептроном (MLP), представляет собой функцию, которая\n",
    "отображает входные данные в выходные данные. MLP имеет один входной\n",
    "слой и один выходной слой. Между ними может быть один или несколько\n",
    "скрытых слоев. Входной слой имеет тот же набор нейронов, что и признаки.\n",
    "Скрытые слои также могут иметь более одного нейрона. Каждый нейрон\n",
    "представляет собой линейную функцию, к которой применяется функция\n",
    "активации для решения сложных задач. Выход каждого слоя подается в\n",
    "качестве входных данных для всех нейронов следующих слоев.\n",
    "Нейронные сети способны решать множество задач. В основном они\n",
    "состоят из таких компонентов:\n",
    "− входной слой (получение и передача данных);\n",
    "− скрытый слой (вычисление);\n",
    "− выходной слой. Чтобы реализовать нейросеть, необходимо\n",
    "понимать, как ведут себя нейроны. Нейрон одновременно\n",
    "принимает несколько входов, обрабатывает эти данные и выдает\n",
    "один выход. Нейронная сеть представляет собой блоки ввода и\n",
    "вывода, где каждое соединение имеет соответствующие веса (это\n",
    "сила связи нейронов; чем вес больше, тем один нейрон сильнее\n",
    "влияет на другой). Данные всех входов умножаются на веса:\n",
    "− 𝑥 → 𝑥 ∗ 𝑤1;\n",
    "− 𝑦 → 𝑦 ∗ 𝑤2.\n",
    "Входы после взвешивания суммируются с прибавлением значения\n",
    "порога «c»:\n",
    "𝑥𝑤1 + 𝑦𝑤2 + 𝑐\n",
    "Полученное значение пропускается через функцию активации\n",
    "(сигмоиду), которая преобразует входы в один выход:\n",
    "𝑧 = 𝑓(𝑥𝑤1 + 𝑦𝑤2 + 𝑐).\n",
    "Так выглядит сигмоида:\n",
    "![Сигмоида](./imgs/Sigmoida.png)\n",
    "Интервал результатов сигмоиды — от 0 до 1. Отрицательные числа\n",
    "стремятся к нулю, а положительные — к единице.\n",
    "Например. Пусть нейрон имеет следующие значения: 𝑤 = [0,1] 𝑐 = 4.\n",
    "Входной слой: 𝑥 = 2, 𝑦 = 3"
   ],
   "metadata": {
    "collapsed": false
   }
  },
  {
   "cell_type": "markdown",
   "source": [
    "### 1.1.2 Пример\n",
    "Для написания кода нейрона будем использовать библиотеку Pytnon\n",
    "— NumPy:"
   ],
   "metadata": {
    "collapsed": false
   }
  },
  {
   "cell_type": "code",
   "execution_count": 7,
   "outputs": [
    {
     "name": "stdout",
     "output_type": "stream",
     "text": [
      "0.9990889488055994\n"
     ]
    }
   ],
   "source": [
    "import numpy as np\n",
    "def sigmoida(x):\n",
    "    return 1/(1+np.exp(-x))\n",
    "\n",
    "class Neuron:\n",
    "    def __init__(self, weights, bias):\n",
    "        self.weights = weights\n",
    "        self.bias = bias\n",
    "\n",
    "    def feedforward(self, inputs):\n",
    "        total = np.dot(self.weights,inputs)+self.bias\n",
    "        return sigmoida(total)\n",
    "\n",
    "weigths = np.array([0,1])\n",
    "bias = 4\n",
    "n = Neuron(weigths,bias)\n",
    "x = np.array([2,3])\n",
    "print(n.feedforward(x))"
   ],
   "metadata": {
    "collapsed": false
   }
  },
  {
   "cell_type": "markdown",
   "source": [
    "Нейросеть состоит из множества соединенных между собой нейронов.\n",
    "Пример несложной нейронной сети\n",
    "![Строение нейронки](./imgs/Neurostruct.png)\n",
    "где:\n",
    "𝑥1, 𝑥2 — входной слой;\n",
    "ℎ1, ℎ2 — скрытый слой с двумя нейронами;\n",
    "𝑜1 — выходной слой.\n",
    "Например. Представим, что нейроны из графика выше имеют веса\n",
    "[0, 1]. Пороговое значение (𝑏) у обоих нейронов равно 0 и они имеют\n",
    "идентичную сигмоиду.\n",
    "При входных данных 𝑥 = [2, 3] получим:\n",
    "ℎ1 = ℎ2 = 𝑓(𝑤𝑥 + 𝑏) = 𝑓((02) + (1 ∗ 3) + 0) = 𝑓(3) = 0.95.\n",
    "𝑜1 = 𝑓(𝑤 ∗ [ℎ1, ℎ2] + 𝑏) = 𝑓((0ℎ1) + (1ℎ2) + 0) = 𝑓(0.95) = 0.72.\n",
    "Входные данные по нейронам передаются до тех пор, пока не\n",
    "получатся выходные значения"
   ],
   "metadata": {
    "collapsed": false
   }
  },
  {
   "cell_type": "code",
   "execution_count": 8,
   "outputs": [
    {
     "name": "stdout",
     "output_type": "stream",
     "text": [
      "0.7216325609518421\n"
     ]
    }
   ],
   "source": [
    "import numpy as np\n",
    "class OurNeuralNetwork:\n",
    "    '''\n",
    "    Данные сеточки:\n",
    "        2 входа\n",
    "        2 нейрона в скрытых\n",
    "        выход\n",
    "    Нейроны с равными весами и порогами\n",
    "        w=[0,1]\n",
    "        b=0\n",
    "    '''\n",
    "\n",
    "    def __init__(self):\n",
    "        weigths = np.array([0,1])\n",
    "        bias = 0\n",
    "        self.h1 = Neuron(weigths,bias)\n",
    "        self.h2 = Neuron(weigths, bias)\n",
    "        self.o1 = Neuron(weigths, bias)\n",
    "\n",
    "    def feedforward(self,x):\n",
    "        out_h1 = self.h1.feedforward(x)\n",
    "        out_h2=self.h2.feedforward(x)\n",
    "        out_o1=self.o1.feedforward(np.array([out_h1,out_h2]))\n",
    "        return out_o1\n",
    "\n",
    "net = OurNeuralNetwork()\n",
    "x = np.array([2,3])\n",
    "print(net.feedforward(x))"
   ],
   "metadata": {
    "collapsed": false
   }
  },
  {
   "cell_type": "markdown",
   "source": [
    "### Теоретический материал – Обучение нейронной сети\n",
    "Обучение нейросети — это подбор весов, которые соответствуют всем\n",
    "входам для решения поставленных задач.\n",
    "Класс нейронной сети:"
   ],
   "metadata": {
    "collapsed": false
   }
  },
  {
   "cell_type": "markdown",
   "source": [
    "Каждый этап процесса обучения состоит из:\n",
    "− прямого распространения (прогнозируемый выход);\n",
    "− обратного распространения (обновление весов и смещений).\n",
    "Например:\n",
    "Дана двуслойная нейросеть:\n",
    "ŷ = 𝜎(𝑤2𝜎(𝑤1𝑥 + 𝑏1\n",
    ") + 𝑏2\n",
    ").\n",
    "В данном случае на выход ŷ влияют только две переменные — 𝑤 (веса) и 𝑏\n",
    "(смещение). Настройку весов и смещений из данных входа или процесс\n",
    "обучения нейросети можно изобразить так:\n",
    "![Обучение](./imgs/NeuroLearn.png)\n",
    "Прямое распространение.\n",
    "Как видно, формула прямого распространения представляет собой\n",
    "несложное вычисление:\n",
    "ŷ = 𝜎(𝑤2𝜎(𝑤1𝑥 + 𝑏1) + 𝑏2)\n",
    "Далее необходимо добавить в код функцию прямого распространения.\n",
    "Предположим, что смещения в этом случае будут равны 0.\n",
    "\n",
    "Чтобы вычислить ошибку прогноза, необходимо использовать функцию\n",
    "потери. В примере уместно воспользоваться формулой суммы квадратов\n",
    "ошибок — средним значением между прогнозируемым и фактическим\n",
    "результатами:\n",
    "𝐸𝑟𝑟𝑜𝑟 = ∑(𝑦 − 𝑦̂)\n",
    "2\n",
    "𝑛\n",
    "𝑖=1\n",
    ".\n",
    "Обратное распространение\n",
    "Обратное распространение позволяет измерить производные в\n",
    "обратном порядке — от конца к началу, и скорректировать веса и смещения.\n",
    "Для этого необходимо узнать производную функции потери — тангенс угла\n",
    "наклона.\n",
    "Производная функции по отношению к весам и смещениям позволяет\n",
    "узнать градиентный спуск. Производная функции потери не содержит весов\n",
    "и смещений, для ее вычисления необходимо добавить правило цепи:\n",
    "𝐿𝑜𝑠𝑠 (𝑦, 𝑦̂) = ∑(𝑦 − 𝑦̂)\n",
    "2\n",
    "𝑛\n",
    "𝑖=1\n",
    "𝜕𝐿𝑜𝑠𝑠 (𝑦, 𝑦̂)\n",
    "𝜕𝑊\n",
    "=\n",
    "𝜕𝐿𝑜𝑠𝑠 (𝑦, 𝑦̂)\n",
    "𝜕𝑦̂\n",
    "∙\n",
    "𝜕𝑦̂\n",
    "𝜕𝑧 ∙\n",
    "𝜕𝑧\n",
    "𝜕𝑊 =\n",
    "= 2(𝑦 − 𝑦̂) ∙ производную сигмоиды ∙ 𝑥 =\n",
    "= 2(𝑦 − 𝑦̂) ∙ 𝑧(1 − 𝑧) ∙ 𝑥,\n",
    "где 𝑧 = 𝑊𝑥 + 𝑏.\n",
    "Благодаря этому правилу можно регулировать веса. Добавляем в код\n",
    "Python функцию обратного распространения:\n",
    "Нейронные сети базируются на определенных алгоритмах и\n",
    "математических функциях. Сначала может казаться, что разобраться в них\n",
    "довольно сложно. Но существуют готовые библиотеки машинного обучения\n",
    "для построения и тренировки нейросетей, позволяющие не углубляться в их\n",
    "устройство."
   ],
   "metadata": {
    "collapsed": false
   }
  },
  {
   "cell_type": "code",
   "execution_count": 9,
   "outputs": [],
   "source": [
    "def sigmoid_derivative(x):\n",
    "  f = sigmoida(x)\n",
    "  return f * (1 - f)\n",
    "class NeuralNetwork:\n",
    "    def __init__(self,x,y):\n",
    "        self.input = x\n",
    "        self.weights1 = np.random.rand(self.input.shape[1],4)\n",
    "        self.weights2 = np.random.rand(4,1)\n",
    "        self.y = y\n",
    "        self.output = np.zeros(y.shape)\n",
    "\n",
    "    def feedforward(self):\n",
    "        self.layer1 = sigmoida(np.dot(self.input,self.weights1))\n",
    "        self.output = sigmoida(np.dot(self.layer1,self.weights2))\n",
    "\n",
    "    def backprop(self):\n",
    "        d_weights2 = np.dot(self.layer1.T, (2*(self.y-self.output)*sigmoid_derivative(self.output)))\n",
    "        d_weights1 = np.dot(self.input.T, (np.dot(2*(self.y - self.output)*sigmoid_derivative(self.output),self.weights2.T)*sigmoid_derivative(self.layer1)))"
   ],
   "metadata": {
    "collapsed": false
   }
  },
  {
   "cell_type": "markdown",
   "source": [
    "### Задание\n",
    "Реализовать классы нейросетей по аналогии с классом OurNeuralNetwork.\n",
    "Данные нейросети:\n",
    "− три входа (𝑥1, 𝑥2, 𝑥3\n",
    ");\n",
    "− три нейрона в скрытых слоях (ℎ1, ℎ2, ℎ3);\n",
    "− выход (𝑜1).\n",
    "Нейроны имеют идентичные веса и пороги:\n",
    "− 𝑤 = [0.5, 0.5, 0.5]\n",
    "− 𝑏 = 0"
   ],
   "metadata": {
    "collapsed": false
   }
  },
  {
   "cell_type": "code",
   "execution_count": 15,
   "outputs": [
    {
     "name": "stdout",
     "output_type": "stream",
     "text": [
      "0.8170206500405062\n"
     ]
    }
   ],
   "source": [
    "import numpy as np\n",
    "class TripleNeuroNet:\n",
    "    def __init__(self):\n",
    "        weigths = np.array([0.5,0.5,0.5])\n",
    "        bias = 0\n",
    "        self.h1 = Neuron(weigths,bias)\n",
    "        self.h2 = Neuron(weigths,bias)\n",
    "        self.h3 = Neuron(weigths,bias)\n",
    "        self.o1 = Neuron(weigths,bias)\n",
    "\n",
    "    def feedforward(self,x):\n",
    "        out_h1 = self.h1.feedforward(x)\n",
    "        out_h2 = self.h2.feedforward(x)\n",
    "        out_h3 = self.h3.feedforward(x)\n",
    "        total = self.o1.feedforward(np.array([out_h1,out_h2,out_h3]))\n",
    "        return total\n",
    "\n",
    "net = TripleNeuroNet()\n",
    "x=np.array([2,4,6])\n",
    "print(net.feedforward(x))"
   ],
   "metadata": {
    "collapsed": false
   }
  },
  {
   "cell_type": "markdown",
   "source": [
    "Данные нейросети:\n",
    "− два входа (𝑥1, 𝑥2);\n",
    "− два нейрона в скрытых слоях (ℎ1, ℎ2);\n",
    "− два выхода (𝑜1, 𝑜2\n",
    ").\n",
    "Нейроны имеют идентичные веса и пороги:\n",
    "− 𝑤 = [1, 0];\n",
    "− 𝑏 = 1.\n"
   ],
   "metadata": {
    "collapsed": false
   }
  },
  {
   "cell_type": "code",
   "execution_count": 16,
   "outputs": [
    {
     "name": "stdout",
     "output_type": "stream",
     "text": [
      "[0.7069873680001046, 0.7069873680001046]\n"
     ]
    }
   ],
   "source": [
    "import numpy as np\n",
    "class DoubleNeuroNet:\n",
    "    def __init__(self):\n",
    "        weigths = np.array([1,0])\n",
    "        bias = 0\n",
    "        self.h1 = Neuron(weigths,bias)\n",
    "        self.h2 = Neuron(weigths,bias)\n",
    "        self.o1 = Neuron(weigths,bias)\n",
    "        self.o2 = Neuron(weigths,bias)\n",
    "\n",
    "    def feedforward(self,x):\n",
    "        out_h1 = self.h1.feedforward(x)\n",
    "        out_h2 = self.h2.feedforward(x)\n",
    "        total = []\n",
    "        total.append(self.o1.feedforward(np.array([out_h1,out_h2])))\n",
    "        total.append(self.o2.feedforward(np.array([out_h1,out_h2])))\n",
    "        return total\n",
    "\n",
    "net = DoubleNeuroNet()\n",
    "x=np.array([2,4])\n",
    "print(net.feedforward(x))"
   ],
   "metadata": {
    "collapsed": false
   }
  },
  {
   "cell_type": "markdown",
   "source": [
    "Реализуйте классы нейронных сетей с использованием других функций\n",
    "активации"
   ],
   "metadata": {
    "collapsed": false
   }
  },
  {
   "cell_type": "code",
   "execution_count": 18,
   "outputs": [
    {
     "name": "stdout",
     "output_type": "stream",
     "text": [
      "[0.7460679984455996, 0.7460679984455996]\n"
     ]
    }
   ],
   "source": [
    "import numpy as np\n",
    "import math\n",
    "\n",
    "class TanhNeuron:\n",
    "    def __init__(self, weights, bias):\n",
    "        self.weights = weights\n",
    "        self.bias = bias\n",
    "\n",
    "    def feedforward(self, inputs):\n",
    "        total = np.dot(self.weights,inputs)+self.bias\n",
    "        return math.tanh(total)\n",
    "\n",
    "class TanhNeuroNet:\n",
    "    def __init__(self):\n",
    "        weigths = np.array([1,0])\n",
    "        bias = 0\n",
    "        self.h1 = TanhNeuron(weigths,bias)\n",
    "        self.h2 = TanhNeuron(weigths,bias)\n",
    "        self.o1 = TanhNeuron(weigths,bias)\n",
    "        self.o2 = TanhNeuron(weigths,bias)\n",
    "\n",
    "    def feedforward(self,x):\n",
    "        out_h1 = self.h1.feedforward(x)\n",
    "        out_h2 = self.h2.feedforward(x)\n",
    "        total = []\n",
    "        total.append(self.o1.feedforward(np.array([out_h1,out_h2])))\n",
    "        total.append(self.o2.feedforward(np.array([out_h1,out_h2])))\n",
    "        return total\n",
    "\n",
    "net = TanhNeuroNet()\n",
    "x=np.array([2,4])\n",
    "print(net.feedforward(x))"
   ],
   "metadata": {
    "collapsed": false
   }
  },
  {
   "cell_type": "code",
   "execution_count": 20,
   "outputs": [
    {
     "name": "stdout",
     "output_type": "stream",
     "text": [
      "[2, 2]\n"
     ]
    }
   ],
   "source": [
    "import numpy as np\n",
    "import math\n",
    "\n",
    "class ReLUNeuron:\n",
    "    def __init__(self, weights, bias):\n",
    "        self.weights = weights\n",
    "        self.bias = bias\n",
    "\n",
    "    def feedforward(self, inputs):\n",
    "        total = np.dot(self.weights,inputs)+self.bias\n",
    "        return max(0,total)\n",
    "\n",
    "class ReluNeuroNet:\n",
    "    def __init__(self):\n",
    "        weigths = np.array([1,0])\n",
    "        bias = 0\n",
    "        self.h1 = ReLUNeuron(weigths,bias)\n",
    "        self.h2 = ReLUNeuron(weigths,bias)\n",
    "        self.o1 = ReLUNeuron(weigths,bias)\n",
    "        self.o2 = ReLUNeuron(weigths,bias)\n",
    "\n",
    "    def feedforward(self,x):\n",
    "        out_h1 = self.h1.feedforward(x)\n",
    "        out_h2 = self.h2.feedforward(x)\n",
    "        total = []\n",
    "        total.append(self.o1.feedforward(np.array([out_h1,out_h2])))\n",
    "        total.append(self.o2.feedforward(np.array([out_h1,out_h2])))\n",
    "        return total\n",
    "\n",
    "net = ReluNeuroNet()\n",
    "x=np.array([2,4])\n",
    "print(net.feedforward(x))"
   ],
   "metadata": {
    "collapsed": false
   }
  },
  {
   "cell_type": "markdown",
   "source": [
    "## 1.2. Введение в нейронные сети с помощью Scikit-Learn в Python\n",
    "Теперь мы знаем, что такое нейронные сети и какие шаги необходимо\n",
    "выполнить, чтобы построить простую нейронную сеть с плотными связями.\n",
    "В этом разделе мы попытаемся построить простую нейронную сеть, которая\n",
    "предсказывает класс, к которому принадлежит данное растение ириса. Мы\n",
    "будем использовать библиотеку Python Scikit-Learn для создания нашей\n",
    "нейронной сети.\n",
    "Sklearn предоставляет 2 оценщика для задач классификации и\n",
    "регрессии соответственно:\n",
    "− MLPClassifier;\n",
    "− MLPRegressor\n",
    "Начнем с импорта необходимых библиотек.\n",
    "```py\n",
    "import numpy as np\n",
    "import pandas as pd\n",
    "import matplotlib.pyplot as plt\n",
    "\n",
    "import sklearn\n",
    "```"
   ],
   "metadata": {
    "collapsed": false
   }
  },
  {
   "cell_type": "markdown",
   "source": [
    "### MLPClassifier\n",
    "Загрузка данных\n",
    "Мы будем загружать два набора данных.\n",
    "Набор данных цифр: мы будем использовать набор данных цифр,\n",
    "который имеет изображения размером 8x8 для цифр 0-9. Ниже мы будем\n",
    "использовать цифровые данные для задач классификации.\n",
    "Набор данных о жилье в Бостоне: мы будем использовать набор\n",
    "данных о жилье в Бостоне, который содержит информацию о различных\n",
    "свойствах дома, таких как среднее количество комнат, уровень преступности\n",
    "на душу населения в городе и т. д. Мы будем использовать его для задач\n",
    "регрессии.\n",
    "Sklearn предоставляет оба этих набора данных. Мы можем загрузить\n",
    "их, вызвав методы load_digits() и load_boston()."
   ],
   "metadata": {
    "collapsed": false
   }
  },
  {
   "cell_type": "code",
   "execution_count": 25,
   "outputs": [
    {
     "name": "stdout",
     "output_type": "stream",
     "text": [
      "Dataset Sizes:  (1797, 64) (1797,)\n",
      "Dataset Sizes:  (20640, 8) (20640,)\n"
     ]
    }
   ],
   "source": [
    "from sklearn.datasets import load_digits, fetch_california_housing #вместо Boston, удален в данной версии либы\n",
    "\n",
    "digits = load_digits()\n",
    "Xdig, Ydig = digits.data, digits.target\n",
    "print(\"Dataset Sizes: \",Xdig.shape, Ydig.shape)\n",
    "\n",
    "california = fetch_california_housing()\n",
    "Xcalif, Ycalif = california.data, california.target\n",
    "print(\"Dataset Sizes: \",Xcalif.shape, Ycalif.shape)"
   ],
   "metadata": {
    "collapsed": false
   }
  },
  {
   "cell_type": "markdown",
   "source": [
    "Классификация\n",
    "MLPClassifier — это клвсс, доступный как часть модуля neuro_network\n",
    "sklearn для выполнения задач классификации с использованием\n",
    "многослойного персептрона.\n",
    "Как обычно разделим набор данных на две части:\n",
    "− данные обучения, которые будут использоваться для модели\n",
    "обучения;\n",
    "− тестовые данные, по которым будет проверяться точность\n",
    "обученной модели.\n",
    "Функция train_test_split модуля model_selection sklearn поможет нам\n",
    "разделить данные на два набора: 80% для обучения и 20% для тестирования.\n",
    "Мы также используем seed(random_state=123) с train_test_split, чтобы мы\n",
    "всегда получали одно и то же разделение и могли сравнивать и\n",
    "воспроизволить результаты в будущем."
   ],
   "metadata": {
    "collapsed": false
   }
  },
  {
   "cell_type": "code",
   "execution_count": 26,
   "outputs": [
    {
     "name": "stdout",
     "output_type": "stream",
     "text": [
      "Train/Test Sizes:  (1437, 64) (360, 64) (1437,) (360,)\n"
     ]
    }
   ],
   "source": [
    "from sklearn.model_selection import train_test_split\n",
    "\n",
    "xtrain, xtest, ytrain, ytest = train_test_split(Xdig,Ydig, train_size=0.8,test_size=0.2,stratify=Ydig,random_state=123)\n",
    "print(\"Train/Test Sizes: \",xtrain.shape,xtest.shape,ytrain.shape,ytest.shape)"
   ],
   "metadata": {
    "collapsed": false
   }
  },
  {
   "cell_type": "code",
   "execution_count": 27,
   "outputs": [
    {
     "name": "stdout",
     "output_type": "stream",
     "text": [
      "[5 9 9 6 1 6 6 9 8 7 4 2 1 4 3]\n",
      "[5 9 9 6 1 6 6 9 8 7 4 2 1 4 3]\n",
      "Test accuracy: 0.983\n",
      "Training Accuracy: 1.000\n"
     ]
    }
   ],
   "source": [
    "from sklearn.neural_network import MLPClassifier\n",
    "mlp = MLPClassifier(random_state=123)\n",
    "mlp.fit(xtrain,ytrain)\n",
    "Y_preds = mlp.predict(xtest)\n",
    "print(Y_preds[:15])\n",
    "print(ytest[:15])\n",
    "print(\"Test accuracy: %.3f\"%mlp.score(xtest,ytest))\n",
    "print(\"Training Accuracy: %.3f\"%mlp.score(xtrain,ytrain))"
   ],
   "metadata": {
    "collapsed": false
   }
  },
  {
   "cell_type": "markdown",
   "source": [
    "Cоздадим метод plot_confusion_matrix(), который принимает исходные и\n",
    "предсказанные метки данных по модели. Затем он строит матрицу путаницы,\n",
    "используя matplotlib"
   ],
   "metadata": {
    "collapsed": false
   }
  },
  {
   "cell_type": "code",
   "execution_count": 34,
   "outputs": [
    {
     "data": {
      "text/plain": "<Figure size 480x480 with 2 Axes>",
      "image/png": "[encoded data removed]"
     },
     "metadata": {},
     "output_type": "display_data"
    }
   ],
   "source": [
    "from sklearn.metrics import confusion_matrix\n",
    "import matplotlib.pyplot as plt\n",
    "\n",
    "def plot_confusion_matrix(ytest,ypred):\n",
    "    conf_mat = confusion_matrix(ytest,ypred)\n",
    "    flg = plt.Figure(figsize=(6,6))\n",
    "    plt.matshow(conf_mat,cmap=plt.cm.Blues, fignum=1)\n",
    "    plt.yticks(range(10),range(10))\n",
    "    plt.xticks(range(10),range(10))\n",
    "    plt.colorbar()\n",
    "    for i in range(10):\n",
    "        for j in range(10):\n",
    "            plt.text(i-0.2,j+0.1,str(conf_mat[j,i]),color='tab:red')\n",
    "\n",
    "plot_confusion_matrix(ytest,mlp.predict(xtest))"
   ],
   "metadata": {
    "collapsed": false
   }
  },
  {
   "cell_type": "markdown",
   "source": [
    "Ниже приведен список важных атрибутов, доступных с MLPClassifier,\n",
    "которые могут предоставить значимую информацию после обучения\n",
    "модели.\n",
    "− loss_ — возвращает убыток после завершения процесса обучения.\n",
    "− coefs_ — возвращает массив длины n_layers-1, где каждый элемент\n",
    "представляет веса, связанные с уровнем i.\n",
    "− intercepts_ — возвращает массив длины n_layers-1, где каждый\n",
    "элемент представляет собой перехват, связанный с персептронами\n",
    "слоя i.\n",
    "− n_iter_ — количество итераций, для которых выполнялась оценка.\n",
    "− out_activation_ — возвращает имя функции активации выходного\n",
    "слоя."
   ],
   "metadata": {
    "collapsed": false
   }
  },
  {
   "cell_type": "code",
   "execution_count": 35,
   "outputs": [
    {
     "name": "stdout",
     "output_type": "stream",
     "text": [
      "Loss:  log_loss\n",
      "Number of Coefs:  2\n",
      "Number of Intercepts:  2\n",
      "Num of otterations for WER:  125\n",
      "Name of Output Layer Activation Function:  softmax\n"
     ]
    }
   ],
   "source": [
    "print(\"Loss: \", mlp.loss)\n",
    "print(\"Number of Coefs: \", len(mlp.coefs_))\n",
    "print(\"Number of Intercepts: \", len(mlp.intercepts_) )\n",
    "print(\"Num of otterations for WER: \", mlp.n_iter_)\n",
    "print(\"Name of Output Layer Activation Function: \", mlp.out_activation_)"
   ],
   "metadata": {
    "collapsed": false
   }
  },
  {
   "cell_type": "markdown",
   "source": [
    "### MLPRegressor\n",
    "MLPRegressor — это класс, доступный как часть библиотеки\n",
    "neuro_network sklearn для выполнения задач регрессии с использованием\n",
    "многослойного персептрона. Также разделим набор данных на две части:\n",
    "− данные обучения (80%), которые будут использоваться для\n",
    "модели обучения;\n",
    "− тестовые данные (20%), по которым будет проверяться точность\n",
    "обученной модели."
   ],
   "metadata": {
    "collapsed": false
   }
  },
  {
   "cell_type": "code",
   "execution_count": 36,
   "outputs": [
    {
     "name": "stdout",
     "output_type": "stream",
     "text": [
      "Train/Test Sizes (16512, 8) (4128, 8) (16512,) (4128,)\n"
     ]
    }
   ],
   "source": [
    "xtrain, xtest, ytrain, ytest = train_test_split(Xcalif, Ycalif, train_size=0.8, test_size=0.2, random_state=123)\n",
    "print(\"Train/Test Sizes\",xtrain.shape,xtest.shape,ytrain.shape,ytest.shape)"
   ],
   "metadata": {
    "collapsed": false
   }
  },
  {
   "cell_type": "code",
   "execution_count": 37,
   "outputs": [
    {
     "data": {
      "text/plain": "MLPRegressor(random_state=123)",
      "text/html": "<style>#sk-container-id-1 {color: black;background-color: white;}#sk-container-id-1 pre{padding: 0;}#sk-container-id-1 div.sk-toggleable {background-color: white;}#sk-container-id-1 label.sk-toggleable__label {cursor: pointer;display: block;width: 100%;margin-bottom: 0;padding: 0.3em;box-sizing: border-box;text-align: center;}#sk-container-id-1 label.sk-toggleable__label-arrow:before {content: \"▸\";float: left;margin-right: 0.25em;color: #696969;}#sk-container-id-1 label.sk-toggleable__label-arrow:hover:before {color: black;}#sk-container-id-1 div.sk-estimator:hover label.sk-toggleable__label-arrow:before {color: black;}#sk-container-id-1 div.sk-toggleable__content {max-height: 0;max-width: 0;overflow: hidden;text-align: left;background-color: #f0f8ff;}#sk-container-id-1 div.sk-toggleable__content pre {margin: 0.2em;color: black;border-radius: 0.25em;background-color: #f0f8ff;}#sk-container-id-1 input.sk-toggleable__control:checked~div.sk-toggleable__content {max-height: 200px;max-width: 100%;overflow: auto;}#sk-container-id-1 input.sk-toggleable__control:checked~label.sk-toggleable__label-arrow:before {content: \"▾\";}#sk-container-id-1 div.sk-estimator input.sk-toggleable__control:checked~label.sk-toggleable__label {background-color: #d4ebff;}#sk-container-id-1 div.sk-label input.sk-toggleable__control:checked~label.sk-toggleable__label {background-color: #d4ebff;}#sk-container-id-1 input.sk-hidden--visually {border: 0;clip: rect(1px 1px 1px 1px);clip: rect(1px, 1px, 1px, 1px);height: 1px;margin: -1px;overflow: hidden;padding: 0;position: absolute;width: 1px;}#sk-container-id-1 div.sk-estimator {font-family: monospace;background-color: #f0f8ff;border: 1px dotted black;border-radius: 0.25em;box-sizing: border-box;margin-bottom: 0.5em;}#sk-container-id-1 div.sk-estimator:hover {background-color: #d4ebff;}#sk-container-id-1 div.sk-parallel-item::after {content: \"\";width: 100%;border-bottom: 1px solid gray;flex-grow: 1;}#sk-container-id-1 div.sk-label:hover label.sk-toggleable__label {background-color: #d4ebff;}#sk-container-id-1 div.sk-serial::before {content: \"\";position: absolute;border-left: 1px solid gray;box-sizing: border-box;top: 0;bottom: 0;left: 50%;z-index: 0;}#sk-container-id-1 div.sk-serial {display: flex;flex-direction: column;align-items: center;background-color: white;padding-right: 0.2em;padding-left: 0.2em;position: relative;}#sk-container-id-1 div.sk-item {position: relative;z-index: 1;}#sk-container-id-1 div.sk-parallel {display: flex;align-items: stretch;justify-content: center;background-color: white;position: relative;}#sk-container-id-1 div.sk-item::before, #sk-container-id-1 div.sk-parallel-item::before {content: \"\";position: absolute;border-left: 1px solid gray;box-sizing: border-box;top: 0;bottom: 0;left: 50%;z-index: -1;}#sk-container-id-1 div.sk-parallel-item {display: flex;flex-direction: column;z-index: 1;position: relative;background-color: white;}#sk-container-id-1 div.sk-parallel-item:first-child::after {align-self: flex-end;width: 50%;}#sk-container-id-1 div.sk-parallel-item:last-child::after {align-self: flex-start;width: 50%;}#sk-container-id-1 div.sk-parallel-item:only-child::after {width: 0;}#sk-container-id-1 div.sk-dashed-wrapped {border: 1px dashed gray;margin: 0 0.4em 0.5em 0.4em;box-sizing: border-box;padding-bottom: 0.4em;background-color: white;}#sk-container-id-1 div.sk-label label {font-family: monospace;font-weight: bold;display: inline-block;line-height: 1.2em;}#sk-container-id-1 div.sk-label-container {text-align: center;}#sk-container-id-1 div.sk-container {/* jupyter's `normalize.less` sets `[hidden] { display: none; }` but bootstrap.min.css set `[hidden] { display: none !important; }` so we also need the `!important` here to be able to override the default hidden behavior on the sphinx rendered scikit-learn.org. See: https://github.com/scikit-learn/scikit-learn/issues/21755 */display: inline-block !important;position: relative;}#sk-container-id-1 div.sk-text-repr-fallback {display: none;}</style><div id=\"sk-container-id-1\" class=\"sk-top-container\"><div class=\"sk-text-repr-fallback\"><pre>MLPRegressor(random_state=123)</pre><b>In a Jupyter environment, please rerun this cell to show the HTML representation or trust the notebook. <br />On GitHub, the HTML representation is unable to render, please try loading this page with nbviewer.org.</b></div><div class=\"sk-container\" hidden><div class=\"sk-item\"><div class=\"sk-estimator sk-toggleable\"><input class=\"sk-toggleable__control sk-hidden--visually\" id=\"sk-estimator-id-1\" type=\"checkbox\" checked><label for=\"sk-estimator-id-1\" class=\"sk-toggleable__label sk-toggleable__label-arrow\">MLPRegressor</label><div class=\"sk-toggleable__content\"><pre>MLPRegressor(random_state=123)</pre></div></div></div></div></div>"
     },
     "execution_count": 37,
     "metadata": {},
     "output_type": "execute_result"
    }
   ],
   "source": [
    "from sklearn.neural_network import MLPRegressor\n",
    "\n",
    "regres = MLPRegressor(random_state=123)\n",
    "regres.fit(xtrain,ytrain)"
   ],
   "metadata": {
    "collapsed": false
   }
  },
  {
   "cell_type": "code",
   "execution_count": 38,
   "outputs": [
    {
     "name": "stdout",
     "output_type": "stream",
     "text": [
      "[1.90219935 1.43047514 1.3506227  0.76890059 2.34997826 2.56749015\n",
      " 0.78763273 1.84240978 1.57480889 1.25957592]\n",
      "[1.516 0.992 1.345 2.317 4.629 1.407 1.703 1.603 1.018 1.688]\n",
      "Test R^2 Score: 0.417\n",
      "Training R^2 Score: 0.418\n"
     ]
    }
   ],
   "source": [
    "y_preds = regres.predict(xtest)\n",
    "\n",
    "print(y_preds[:10])\n",
    "print(ytest[:10])\n",
    "print('Test R^2 Score: %.3f'%regres.score(xtest,ytest))\n",
    "print('Training R^2 Score: %.3f'%regres.score(xtrain,ytrain))"
   ],
   "metadata": {
    "collapsed": false
   }
  },
  {
   "cell_type": "code",
   "execution_count": 39,
   "outputs": [
    {
     "name": "stdout",
     "output_type": "stream",
     "text": [
      "Loss:  squared_error\n",
      "Number of Coefs:  2\n",
      "Number of Intercepts:  2\n",
      "Num of otterations for WER:  28\n",
      "Name of Output Layer Activation Function:  identity\n"
     ]
    }
   ],
   "source": [
    "print(\"Loss: \", regres.loss)\n",
    "print(\"Number of Coefs: \", len(regres.coefs_))\n",
    "print(\"Number of Intercepts: \", len(regres.intercepts_) )\n",
    "print(\"Num of otterations for WER: \", regres.n_iter_)\n",
    "print(\"Name of Output Layer Activation Function: \", regres.out_activation_)"
   ],
   "metadata": {
    "collapsed": false
   }
  },
  {
   "cell_type": "markdown",
   "source": [
    "Используйте классы MLPClassified и MLPRegressor для классификации и\n",
    "регрессии произвольных данных из интернета. Проведите анализ\n",
    "атрибуты, полученных моделей.\n",
    "Для классификации можете взять набор данных Ирисов:\n",
    "https://gist.githubusercontent.com/netj/8836201/raw/6f9306ad21398ea43cba4f7d537619d0e07d5ae3/iris.csv\n",
    "а для регрессии датасет зависимости заработной платы от опыта работы:\n",
    "https://raw.githubusercontent.com/AnnaShestova/salary-years-simple-linearregression/master/Salary_Data.csv"
   ],
   "metadata": {
    "collapsed": false
   }
  },
  {
   "cell_type": "code",
   "execution_count": 44,
   "outputs": [
    {
     "name": "stdout",
     "output_type": "stream",
     "text": [
      "['Versicolor' 'Setosa' 'Virginica' 'Virginica' 'Setosa']\n",
      "80     Versicolor\n",
      "45         Setosa\n",
      "144     Virginica\n",
      "110     Virginica\n",
      "38         Setosa\n",
      "Name: variety, dtype: object\n",
      "Test Accuracy: 0.933\n",
      "Training Accuracy: 0.983\n",
      "Loss: 0.2988789340197434\n",
      "Number of Coefs: 2\n",
      "Number of Intercepts: 2\n",
      "Number of Iterations for Which Estimator Ran: 200\n",
      "Number of Output Layer Activation Function: softmax\n"
     ]
    },
    {
     "name": "stderr",
     "output_type": "stream",
     "text": [
      "C:\\Users\\srdhe\\AppData\\Local\\Programs\\Python\\Python310\\lib\\site-packages\\sklearn\\neural_network\\_multilayer_perceptron.py:686: ConvergenceWarning: Stochastic Optimizer: Maximum iterations (200) reached and the optimization hasn't converged yet.\n",
      "  warnings.warn(\n"
     ]
    }
   ],
   "source": [
    "import pandas as pd\n",
    "\n",
    "iris = pd.read_csv('https://gist.githubusercontent.com/netj/8836201/raw/6f9306ad21398ea43cba4f7d537619d0e07d5ae3/iris.csv')\n",
    "#iris.head()\n",
    "\n",
    "X_train, X_test, Y_train, Y_test = train_test_split(iris.iloc[:, :-1], iris.iloc[:, -1], train_size=0.80, test_size=0.20, stratify=iris.iloc[:, -1], random_state=123)\n",
    "mlp_classifier = MLPClassifier(random_state=123)\n",
    "mlp_classifier.fit(X_train, Y_train)\n",
    "Y_preds = mlp_classifier.predict(X_test)\n",
    "print(Y_preds[:5])\n",
    "print(Y_test[:5])\n",
    "print('Test Accuracy: %.3f'%mlp_classifier.score(X_test, Y_test))\n",
    "print('Training Accuracy: %.3f'%mlp_classifier.score(X_train, Y_train))\n",
    "\n",
    "print('Loss:', mlp_classifier.loss_)\n",
    "print('Number of Coefs:', len(mlp_classifier.coefs_))\n",
    "print('Number of Intercepts:', len(mlp_classifier.intercepts_))\n",
    "print('Number of Iterations for Which Estimator Ran:', mlp_classifier.n_iter_)\n",
    "print('Number of Output Layer Activation Function:', mlp_classifier.out_activation_)"
   ],
   "metadata": {
    "collapsed": false
   }
  },
  {
   "cell_type": "code",
   "execution_count": 45,
   "outputs": [
    {
     "name": "stdout",
     "output_type": "stream",
     "text": [
      "Train/Test Sizes:  (24, 1) (6, 1) (24,) (6,)\n",
      "[ 3.31051161 10.13826574  3.02191336  9.25039488  3.31051161  9.33918197]\n",
      "7      3.2\n",
      "29    10.5\n",
      "5      2.9\n",
      "26     9.5\n",
      "8      3.2\n",
      "27     9.6\n",
      "Name: YearsExperience, dtype: float64\n",
      "Test Accuracy: 0.996\n",
      "Training Accuracy: 0.997\n",
      "Loss: 0.008698047282581502\n",
      "Number of Iterations for Which Estimator Ran: 200\n",
      "Number of Output Layer Activation Function: identity\n",
      "Number of Coefs: 2\n"
     ]
    },
    {
     "name": "stderr",
     "output_type": "stream",
     "text": [
      "C:\\Users\\srdhe\\AppData\\Local\\Programs\\Python\\Python310\\lib\\site-packages\\sklearn\\neural_network\\_multilayer_perceptron.py:686: ConvergenceWarning: Stochastic Optimizer: Maximum iterations (200) reached and the optimization hasn't converged yet.\n",
      "  warnings.warn(\n"
     ]
    }
   ],
   "source": [
    "url = \"https://raw.githubusercontent.com/AnnaShestova/salary-years-simple-linear-regression/master/Salary_Data.csv\"\n",
    "sal = pd.read_csv(url)\n",
    "X_train, X_test, Y_train, Y_test = train_test_split(sal.iloc[:, :-1], sal.iloc[:, 0], train_size=0.80, test_size=0.20, random_state=123)\n",
    "\n",
    "print('Train/Test Sizes: ', X_train.shape, X_test.shape, Y_train.shape, Y_test.shape)\n",
    "mlp_reg = MLPRegressor(random_state=123)\n",
    "mlp_reg.fit(X_train,Y_train)\n",
    "\n",
    "Y_preds = mlp_reg.predict(X_test)\n",
    "print(Y_preds[:10])\n",
    "print(Y_test[:10])\n",
    "print('Test Accuracy: %.3f'%mlp_reg.score(X_test, Y_test))\n",
    "print('Training Accuracy: %.3f'%mlp_reg.score(X_train, Y_train))\n",
    "\n",
    "print('Loss:', mlp_reg.loss_)\n",
    "print('Number of Iterations for Which Estimator Ran:', mlp_reg.n_iter_)\n",
    "print('Number of Output Layer Activation Function:', mlp_reg.out_activation_)\n",
    "print('Number of Coefs:', len(mlp_reg.coefs_))"
   ],
   "metadata": {
    "collapsed": false
   }
  }
 ],
 "metadata": {
  "kernelspec": {
   "display_name": "Python 3",
   "language": "python",
   "name": "python3"
  },
  "language_info": {
   "codemirror_mode": {
    "name": "ipython",
    "version": 2
   },
   "file_extension": ".py",
   "mimetype": "text/x-python",
   "name": "python",
   "nbconvert_exporter": "python",
   "pygments_lexer": "ipython2",
   "version": "2.7.6"
  }
 },
 "nbformat": 4,
 "nbformat_minor": 0
}
