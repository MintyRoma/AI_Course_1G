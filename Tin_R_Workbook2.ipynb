{
 "cells": [
  {
   "cell_type": "markdown",
   "source": [
    "## 1. Библиотека NumPy\n",
    "NumPy (NumericalPython) - это библиотека Python с открытым\n",
    "исходным кодом, которая используется практически во всех областях науки\n",
    "и техники. Это универсальный стандарт для работы с числовыми данными в\n",
    "Python.\n",
    "Если у вас уже есть Python, вы можете установить NumPy с помощью\n",
    "командной строки:\n",
    " pip install numpy\n",
    "Чтобы начать использовать NumPy необходимо импортировать\n",
    "соответствующую библиотеку:\n",
    " `import numpy as np`\n",
    "Основным объектом NumPy является однородный многомерный\n",
    "массив (в numpy называется numpy.ndarray). Это многомерный массив\n",
    "элементов (обычно чисел), одного типа.\n",
    "Наиболее важные атрибуты объектов ndarray:\n",
    "- **ndarray.ndim** - число измерений (чаще их называют \"оси\") массива.\n",
    "- **ndarray.shape** - размеры массива, его форма. Это кортеж натуральных\n",
    "чисел, показывающий длину массива по каждой оси. Для матрицы из n строк\n",
    "и m столбов, shape будет (n,m). Число элементов кортежа shape равно ndim.\n",
    "- **ndarray.size** - количество элементов массива. Очевидно, равно\n",
    "произведению всех элементов атрибута shape.\n",
    "- **ndarray.dtype** - объект, описывающий тип элементов массива. Можно\n",
    "определить dtype, используя стандартные типы данных Python. NumPy здесь\n",
    "предоставляет целый букет возможностей, как встроенных, например: bool_,\n",
    "character, int8, int16, int32, int64, float8, float16, float32, float64, complex64,\n",
    "object_, так и возможность определить собственные типы данных, в том\n",
    "числе и составные.\n",
    "- **ndarray.itemsize** - размер каждого элемента массива в байтах.\n",
    "- **ndarray.data** - буфер, содержащий фактические элементы массива.\n",
    "Обычно не нужно использовать этот атрибут, так как обращаться к\n",
    "элементам массива проще всего с помощью индексов.\n",
    "Подробнее о массивах в NumPy можно найти в официальной\n",
    "документации https://numpy.org/doc/stable/user/absolute_beginners.html"
   ],
   "metadata": {
    "collapsed": false
   }
  },
  {
   "cell_type": "markdown",
   "source": [
    "### 1.2.1 Пример\n",
    "\n",
    "Создать массив 5x2. Вывести все значения массива,\n",
    "значение элемента с индексом (3,1) и второй столбец. Индексация\n",
    "начинается с нуля."
   ],
   "metadata": {
    "collapsed": false
   }
  },
  {
   "cell_type": "code",
   "execution_count": 120,
   "outputs": [
    {
     "name": "stdout",
     "output_type": "stream",
     "text": [
      "[[ 1  2]\n",
      " [ 3  4]\n",
      " [ 5  6]\n",
      " [ 7  8]\n",
      " [ 9 10]]\n",
      "8\n",
      "[3 4]\n"
     ]
    }
   ],
   "source": [
    "import numpy as np\n",
    "x = np.array([[1,2],[3,4],[5,6],[7,8],[9,10]])\n",
    "print(x)\n",
    "print(x[3][1])\n",
    "print(x[1])"
   ],
   "metadata": {
    "collapsed": false
   }
  },
  {
   "cell_type": "markdown",
   "source": [
    "### 1.2.2 Пример\n",
    "Пример. Выполнить следующее:\n",
    "1. Создать вектор (одномерный массив) размера 10, заполненный\n",
    "нулями.\n",
    "2. Создать вектор размера 10, заполненный единицами.\n",
    "3. Создать вектор размера 10, заполненный заданным числом.\n",
    "4. Создать вектор со значениями от 10 до 19."
   ],
   "metadata": {
    "collapsed": false
   }
  },
  {
   "cell_type": "code",
   "execution_count": 121,
   "outputs": [
    {
     "name": "stdout",
     "output_type": "stream",
     "text": [
      "[0. 0. 0. 0. 0. 0. 0. 0. 0. 0.] \n",
      " [1. 1. 1. 1. 1. 1. 1. 1. 1. 1.] \n",
      " [5 5 5 5 5 5 5 5 5 5] \n",
      " [10 11 12 13 14 15 16 17 18 19] \n",
      "\n"
     ]
    }
   ],
   "source": [
    "import numpy as np\n",
    "\n",
    "a = np.zeros(10)\n",
    "b = np.ones(10)\n",
    "c = np.full(10,5)\n",
    "d = np.arange(10,20)\n",
    "print(a,\"\\n\",b,\"\\n\",c,\"\\n\",d,\"\\n\")"
   ],
   "metadata": {
    "collapsed": false
   }
  },
  {
   "cell_type": "markdown",
   "source": [
    "### 1.2.3 Пример\n",
    "Создать массив 10x10 со случайными значениями, найти минимум,\n",
    "максимум и среднее значение."
   ],
   "metadata": {
    "collapsed": false
   }
  },
  {
   "cell_type": "code",
   "execution_count": 122,
   "outputs": [
    {
     "name": "stdout",
     "output_type": "stream",
     "text": [
      "0.0052124614255441015 0.9981625253452142 0.519148224294276\n"
     ]
    }
   ],
   "source": [
    "X = np.random.random((10,10))\n",
    "Xmin, Xmax, Xmean, = X.min(), X.max(), X.mean()\n",
    "print(Xmin, Xmax, Xmean)"
   ],
   "metadata": {
    "collapsed": false
   }
  },
  {
   "cell_type": "markdown",
   "source": [
    "### 1.2.4 Пример\n",
    "Задать матрицу размерности 5 на 5 и поменять 2 строки в матрице местами."
   ],
   "metadata": {
    "collapsed": false
   }
  },
  {
   "cell_type": "code",
   "execution_count": 123,
   "outputs": [
    {
     "name": "stdout",
     "output_type": "stream",
     "text": [
      "[[ 5  6  7  8  9]\n",
      " [ 0  1  2  3  4]\n",
      " [10 11 12 13 14]\n",
      " [15 16 17 18 19]\n",
      " [20 21 22 23 24]]\n"
     ]
    }
   ],
   "source": [
    "K = np.arange(25).reshape(5,5)\n",
    "K[[0,1]] = K[[1,0]]\n",
    "print(K)"
   ],
   "metadata": {
    "collapsed": false
   }
  },
  {
   "cell_type": "markdown",
   "source": [
    "### 1.2.5 Пример\n",
    "Выяснить результат следующих выражений:\n",
    "0 * np.nan\n",
    "np.nan == np.nan\n",
    "np.inf > np.nan\n",
    "np.nan - np.nan\n",
    "0.3 == 3 * 0.1"
   ],
   "metadata": {
    "collapsed": false
   }
  },
  {
   "cell_type": "code",
   "execution_count": 124,
   "outputs": [
    {
     "name": "stdout",
     "output_type": "stream",
     "text": [
      "nan\n",
      "False\n",
      "False\n",
      "nan\n",
      "False\n"
     ]
    }
   ],
   "source": [
    "import numpy as np\n",
    "print(0*np.nan)\n",
    "print(np.nan==np.nan)\n",
    "print(np.inf>np.nan)\n",
    "print(np.nan-np.nan)\n",
    "print(0.3 == 3*0.1)"
   ],
   "metadata": {
    "collapsed": false
   }
  },
  {
   "cell_type": "markdown",
   "source": [
    "### 1.2.6 Пример\n",
    "Отсортировать массив."
   ],
   "metadata": {
    "collapsed": false
   }
  },
  {
   "cell_type": "code",
   "execution_count": 125,
   "outputs": [
    {
     "name": "stdout",
     "output_type": "stream",
     "text": [
      "[1 2 3 4 5 6 7 8]\n"
     ]
    }
   ],
   "source": [
    "import numpy as np\n",
    "arr = np.array([2,8,5,4,1,3,7,6])\n",
    "print(np.sort(arr))"
   ],
   "metadata": {
    "collapsed": false
   }
  },
  {
   "cell_type": "markdown",
   "source": [
    "### 1.3.1 Задание\n",
    "Создать 8x8 матрицу и заполнить её в шахматном порядке нулями и единицами."
   ],
   "metadata": {
    "collapsed": false
   }
  },
  {
   "cell_type": "code",
   "execution_count": 126,
   "outputs": [
    {
     "name": "stdout",
     "output_type": "stream",
     "text": [
      "[[0 1 0 1 0 1 0 1]\n",
      " [1 0 1 0 1 0 1 0]\n",
      " [0 1 0 1 0 1 0 1]\n",
      " [1 0 1 0 1 0 1 0]\n",
      " [0 1 0 1 0 1 0 1]\n",
      " [1 0 1 0 1 0 1 0]\n",
      " [0 1 0 1 0 1 0 1]\n",
      " [1 0 1 0 1 0 1 0]]\n"
     ]
    }
   ],
   "source": [
    "import numpy as np\n",
    "size = 8\n",
    "arr = np.full((size,size),0)\n",
    "for line in arr[0:size:2]:\n",
    "    line[np.mod(np.arange(0,size),2)!=0]=1\n",
    "for line in arr[1:size:2]:\n",
    "    line[np.mod(np.arange(size)+1,2)!=0]=1\n",
    "print(arr)"
   ],
   "metadata": {
    "collapsed": false
   }
  },
  {
   "cell_type": "markdown",
   "source": [
    "### 1.3.2 Задание\n",
    "Создать 5x5 матрицу со значениями в строках от 0 до 4. Для создания необходимо использовать функцию arrange."
   ],
   "metadata": {
    "collapsed": false
   }
  },
  {
   "cell_type": "code",
   "execution_count": 127,
   "outputs": [
    {
     "name": "stdout",
     "output_type": "stream",
     "text": [
      "[[0 1 2 3 4]\n",
      " [0 1 2 3 4]\n",
      " [0 1 2 3 4]\n",
      " [0 1 2 3 4]\n",
      " [0 1 2 3 4]]\n"
     ]
    }
   ],
   "source": [
    "import numpy as np\n",
    "\n",
    "sample = np.arange(5)\n",
    "arr = np.full((5,5),sample)\n",
    "print(arr)"
   ],
   "metadata": {
    "collapsed": false
   }
  },
  {
   "cell_type": "markdown",
   "source": [
    "### 1.3.3 Задание\n",
    "Создать массив 3x3x3 со случайными значениями"
   ],
   "metadata": {
    "collapsed": false
   }
  },
  {
   "cell_type": "code",
   "execution_count": 128,
   "outputs": [
    {
     "name": "stdout",
     "output_type": "stream",
     "text": [
      "[[[0.91820008 0.43183395 0.17969513]\n",
      "  [0.08390997 0.27768207 0.07753908]\n",
      "  [0.44810821 0.34271119 0.97324823]]\n",
      "\n",
      " [[0.3592834  0.20775208 0.57178481]\n",
      "  [0.98700606 0.81974544 0.46699005]\n",
      "  [0.40226835 0.05353945 0.15495859]]\n",
      "\n",
      " [[0.99963002 0.22664852 0.87966298]\n",
      "  [0.68720171 0.14540512 0.91230987]\n",
      "  [0.73501839 0.94944466 0.14859732]]]\n"
     ]
    }
   ],
   "source": [
    "import numpy as np\n",
    "\n",
    "arr = np.random.random((3,3,3))\n",
    "print(arr)"
   ],
   "metadata": {
    "collapsed": false
   }
  },
  {
   "cell_type": "markdown",
   "source": [
    "### 1.3.4 Задание\n",
    "Создать матрицу с 0 внутри, и 1 на границах."
   ],
   "metadata": {
    "collapsed": false
   }
  },
  {
   "cell_type": "code",
   "execution_count": 129,
   "outputs": [
    {
     "name": "stdout",
     "output_type": "stream",
     "text": [
      "[[1 1 1 1 1 1 1 1 1 1]\n",
      " [1 0 0 0 0 0 0 0 0 1]\n",
      " [1 0 0 0 0 0 0 0 0 1]\n",
      " [1 0 0 0 0 0 0 0 0 1]\n",
      " [1 0 0 0 0 0 0 0 0 1]\n",
      " [1 0 0 0 0 0 0 0 0 1]\n",
      " [1 0 0 0 0 0 0 0 0 1]\n",
      " [1 0 0 0 0 0 0 0 0 1]\n",
      " [1 0 0 0 0 0 0 0 0 1]\n",
      " [1 1 1 1 1 1 1 1 1 1]]\n"
     ]
    }
   ],
   "source": [
    "import numpy as np\n",
    "\n",
    "arr = np.full((10,10),1)\n",
    "for line in arr[1:9:1]:\n",
    "    line[1:9:1]=0\n",
    "print(arr)"
   ],
   "metadata": {
    "collapsed": false
   }
  },
  {
   "cell_type": "markdown",
   "source": [
    "### 1.3.5 Задание\n",
    "Создайте массив и отсортируйте его по убыванию."
   ],
   "metadata": {
    "collapsed": false
   }
  },
  {
   "cell_type": "code",
   "execution_count": 130,
   "outputs": [
    {
     "name": "stdout",
     "output_type": "stream",
     "text": [
      "[9 8 7 6 6 5 4 3 3 2 1 1 0]\n"
     ]
    }
   ],
   "source": [
    "import numpy as np\n",
    "arr = np.array([1,9,3,6,8,7,5,2,0,3,6,4,1])\n",
    "print(-np.sort(-arr))"
   ],
   "metadata": {
    "collapsed": false
   }
  },
  {
   "cell_type": "markdown",
   "source": [
    "### 1.3.6 Задание\n",
    "Создайте матрицу, выведите ее форму, размер и размерность."
   ],
   "metadata": {
    "collapsed": false
   }
  },
  {
   "cell_type": "code",
   "execution_count": 131,
   "outputs": [
    {
     "name": "stdout",
     "output_type": "stream",
     "text": [
      "[[0 3 9 5 6]\n",
      " [3 6 8 9 0]\n",
      " [3 3 4 7 5]]\n",
      "Size:  15\n",
      "Shape:  (3, 5)\n",
      "Dimension:  2\n"
     ]
    }
   ],
   "source": [
    "import numpy as np\n",
    "\n",
    "matr = np.array([[0,3,9,5,6],[3,6,8,9,0],[3,3,4,7,5]])\n",
    "print(matr)\n",
    "print(\"Size: \",matr.size)\n",
    "print(\"Shape: \", matr.shape)\n",
    "print(\"Dimension: \", matr.ndim)"
   ],
   "metadata": {
    "collapsed": false
   }
  },
  {
   "cell_type": "markdown",
   "source": [
    "## 2. Библиотека Pandas\n",
    "Первым шагом в любом начинании в области машинного обучения является введение исходных данных в систему. Исходные данные могут вводиться вручную, содержаться в файле или храниться в интернете в какомлибо формате. Кроме того, часто требуется получить данные из нескольких источников.\n",
    "\n",
    "Библиотека pandas – это удобный и быстрый инструмент для работы с данными, обладающий большим функционалом. Если очень кратко, то pandas – это библиотека, которая предоставляет очень удобные с точки зрения использования инструменты для хранения данных и работе с ними.\n",
    "\n",
    "Библиотека pandas присутствует в стандартной поставке Anaconda.\n",
    "\n",
    "Если же ее там нет, то его можно установить отдельно. Для этого введите командной строке:\n",
    "`pip install pandas`\n",
    "Для импорта библиотеки используйте команду:\n",
    "```python\n",
    "import pandas as pd\n",
    "```\n",
    "\n",
    "Библиотека pandas предоставляет две ключевые структуры данных:\n",
    "Series и DataFrame.\n",
    "- Series – это одномерная структура данных, ее можно представить, как\n",
    "таблицу с одной строкой. С Series можно работать как с обычным массивом\n",
    "(обращаться по номеру индекса), и как с ассоциированным массивом, когда\n",
    "можно использовать ключ для доступа к элементам данных.\n",
    "\n",
    "- DataFrame – это двумерная структура. Идейно она очень похожа на\n",
    "обычную таблицу, что выражается в способе ее создания и работе с ее\n",
    "элементами"
   ],
   "metadata": {
    "collapsed": false
   }
  },
  {
   "cell_type": "markdown",
   "source": [
    "### 2.2.1 Пример\n",
    "Создать Series из списка Python, словаря Python, и массива Numpy (установить буквенные метки для последнего)."
   ],
   "metadata": {
    "collapsed": false
   }
  },
  {
   "cell_type": "code",
   "execution_count": 3,
   "outputs": [
    {
     "name": "stdout",
     "output_type": "stream",
     "text": [
      "0    1\n",
      "1    2\n",
      "2    3\n",
      "3    4\n",
      "4    5\n",
      "dtype: int64\n",
      "a    1\n",
      "b    2\n",
      "c    3\n",
      "dtype: int64\n",
      "a    1\n",
      "b    2\n",
      "c    3\n",
      "d    4\n",
      "e    5\n",
      "dtype: int32\n"
     ]
    }
   ],
   "source": [
    "import pandas as pd\n",
    "import numpy as np\n",
    "lst=[1,2,3,4,5]\n",
    "d = {'a':1,'b':2,'c':3}\n",
    "ndarr = np.arange(1,6)\n",
    "\n",
    "s1 = pd.Series(lst)\n",
    "s2 = pd.Series(d)\n",
    "s3 = pd.Series(ndarr,['a','b','c','d','e'])\n",
    "\n",
    "print(s1)\n",
    "print(s2)\n",
    "print(s3)"
   ],
   "metadata": {
    "collapsed": false
   }
  },
  {
   "cell_type": "markdown",
   "source": [
    "### 2.2.2 Пример\n",
    "Дано два Series. Напечатать их первые элементы и все элементы после третьего (во втором фрейме)."
   ],
   "metadata": {
    "collapsed": false
   }
  },
  {
   "cell_type": "code",
   "execution_count": 5,
   "outputs": [
    {
     "name": "stdout",
     "output_type": "stream",
     "text": [
      "1\n",
      "5\n",
      "d    4\n",
      "e    5\n",
      "dtype: int32\n"
     ]
    }
   ],
   "source": [
    "import pandas as pd\n",
    "s1 = pd.Series([1,2,3,4,5],['a','b','c','d','e'])\n",
    "s2 = pd.Series([5,4,3,2,1])\n",
    "print(s1['a'])\n",
    "print(s2[0])\n",
    "print(s3[3:])"
   ],
   "metadata": {
    "collapsed": false
   }
  },
  {
   "cell_type": "markdown",
   "source": [
    "### 2.2.3 Пример\n",
    "Создайте новый фрейм данных."
   ],
   "metadata": {
    "collapsed": false
   }
  },
  {
   "cell_type": "code",
   "execution_count": 6,
   "outputs": [
    {
     "data": {
      "text/plain": "                Имя  Возраст  Водитель\n0     Джеки Джексон       38      True\n1  Стивен Стивенсон       25     False",
      "text/html": "<div>\n<style scoped>\n    .dataframe tbody tr th:only-of-type {\n        vertical-align: middle;\n    }\n\n    .dataframe tbody tr th {\n        vertical-align: top;\n    }\n\n    .dataframe thead th {\n        text-align: right;\n    }\n</style>\n<table border=\"1\" class=\"dataframe\">\n  <thead>\n    <tr style=\"text-align: right;\">\n      <th></th>\n      <th>Имя</th>\n      <th>Возраст</th>\n      <th>Водитель</th>\n    </tr>\n  </thead>\n  <tbody>\n    <tr>\n      <th>0</th>\n      <td>Джеки Джексон</td>\n      <td>38</td>\n      <td>True</td>\n    </tr>\n    <tr>\n      <th>1</th>\n      <td>Стивен Стивенсон</td>\n      <td>25</td>\n      <td>False</td>\n    </tr>\n  </tbody>\n</table>\n</div>"
     },
     "execution_count": 6,
     "metadata": {},
     "output_type": "execute_result"
    }
   ],
   "source": [
    "import pandas as pd\n",
    "\n",
    "dataframe = pd.DataFrame()\n",
    "dataframe['Имя']=['Джеки Джексон','Стивен Стивенсон']\n",
    "dataframe['Возраст']=[38,25]\n",
    "dataframe['Водитель']=[True,False]\n",
    "dataframe"
   ],
   "metadata": {
    "collapsed": false
   }
  },
  {
   "cell_type": "markdown",
   "source": [
    "### 2.2.4 Пример\n",
    "Загрузите фрейм данных по ссылке:\n",
    "https://raw.githubusercontent.com/chrisalbon/simulated_datasets/master/titanic.csv"
   ],
   "metadata": {
    "collapsed": false
   }
  },
  {
   "cell_type": "code",
   "execution_count": 14,
   "outputs": [
    {
     "data": {
      "text/plain": "                                            Name PClass    Age     Sex  \\\n0                   Allen, Miss Elisabeth Walton    1st  29.00  female   \n1                    Allison, Miss Helen Loraine    1st   2.00  female   \n2            Allison, Mr Hudson Joshua Creighton    1st  30.00    male   \n3  Allison, Mrs Hudson JC (Bessie Waldo Daniels)    1st  25.00  female   \n4                  Allison, Master Hudson Trevor    1st   0.92    male   \n\n   Survived  SexCode  \n0         1        1  \n1         0        1  \n2         0        0  \n3         0        1  \n4         1        0  ",
      "text/html": "<div>\n<style scoped>\n    .dataframe tbody tr th:only-of-type {\n        vertical-align: middle;\n    }\n\n    .dataframe tbody tr th {\n        vertical-align: top;\n    }\n\n    .dataframe thead th {\n        text-align: right;\n    }\n</style>\n<table border=\"1\" class=\"dataframe\">\n  <thead>\n    <tr style=\"text-align: right;\">\n      <th></th>\n      <th>Name</th>\n      <th>PClass</th>\n      <th>Age</th>\n      <th>Sex</th>\n      <th>Survived</th>\n      <th>SexCode</th>\n    </tr>\n  </thead>\n  <tbody>\n    <tr>\n      <th>0</th>\n      <td>Allen, Miss Elisabeth Walton</td>\n      <td>1st</td>\n      <td>29.00</td>\n      <td>female</td>\n      <td>1</td>\n      <td>1</td>\n    </tr>\n    <tr>\n      <th>1</th>\n      <td>Allison, Miss Helen Loraine</td>\n      <td>1st</td>\n      <td>2.00</td>\n      <td>female</td>\n      <td>0</td>\n      <td>1</td>\n    </tr>\n    <tr>\n      <th>2</th>\n      <td>Allison, Mr Hudson Joshua Creighton</td>\n      <td>1st</td>\n      <td>30.00</td>\n      <td>male</td>\n      <td>0</td>\n      <td>0</td>\n    </tr>\n    <tr>\n      <th>3</th>\n      <td>Allison, Mrs Hudson JC (Bessie Waldo Daniels)</td>\n      <td>1st</td>\n      <td>25.00</td>\n      <td>female</td>\n      <td>0</td>\n      <td>1</td>\n    </tr>\n    <tr>\n      <th>4</th>\n      <td>Allison, Master Hudson Trevor</td>\n      <td>1st</td>\n      <td>0.92</td>\n      <td>male</td>\n      <td>1</td>\n      <td>0</td>\n    </tr>\n  </tbody>\n</table>\n</div>"
     },
     "execution_count": 14,
     "metadata": {},
     "output_type": "execute_result"
    }
   ],
   "source": [
    "import pandas as pd\n",
    "\n",
    "url = 'https://raw.githubusercontent.com/chrisalbon/simulated_datasets/master/titanic.csv'\n",
    "dataframe = pd.read_csv(url)\n",
    "dataframe.head(5)"
   ],
   "metadata": {
    "collapsed": false
   }
  },
  {
   "cell_type": "markdown",
   "source": [
    "### 2.2.5 Пример\n",
    "Пронализировать характеристики фрейма данных.\n",
    "\n",
    "Одна из самых простых вещей, которые мы можем сделать после\n",
    "загрузки данных, – это взглянуть на первые несколько строк с помощью\n",
    "метода head. На последние строки можно посмотреть с помощью\n",
    "функции tail. Мы также можем взглянуть на количество строк и\n",
    "столбцов: dataframe.shape. Кроме того, используя метод describe, мы\n",
    "можем получить описательную статистику для любых числовых\n",
    "столбцов."
   ],
   "metadata": {
    "collapsed": false
   }
  },
  {
   "cell_type": "code",
   "execution_count": 21,
   "outputs": [
    {
     "data": {
      "text/plain": "              Age     Survived      SexCode\ncount  756.000000  1313.000000  1313.000000\nmean    30.397989     0.342727     0.351866\nstd     14.259049     0.474802     0.477734\nmin      0.170000     0.000000     0.000000\n25%     21.000000     0.000000     0.000000\n50%     28.000000     0.000000     0.000000\n75%     39.000000     1.000000     1.000000\nmax     71.000000     1.000000     1.000000",
      "text/html": "<div>\n<style scoped>\n    .dataframe tbody tr th:only-of-type {\n        vertical-align: middle;\n    }\n\n    .dataframe tbody tr th {\n        vertical-align: top;\n    }\n\n    .dataframe thead th {\n        text-align: right;\n    }\n</style>\n<table border=\"1\" class=\"dataframe\">\n  <thead>\n    <tr style=\"text-align: right;\">\n      <th></th>\n      <th>Age</th>\n      <th>Survived</th>\n      <th>SexCode</th>\n    </tr>\n  </thead>\n  <tbody>\n    <tr>\n      <th>count</th>\n      <td>756.000000</td>\n      <td>1313.000000</td>\n      <td>1313.000000</td>\n    </tr>\n    <tr>\n      <th>mean</th>\n      <td>30.397989</td>\n      <td>0.342727</td>\n      <td>0.351866</td>\n    </tr>\n    <tr>\n      <th>std</th>\n      <td>14.259049</td>\n      <td>0.474802</td>\n      <td>0.477734</td>\n    </tr>\n    <tr>\n      <th>min</th>\n      <td>0.170000</td>\n      <td>0.000000</td>\n      <td>0.000000</td>\n    </tr>\n    <tr>\n      <th>25%</th>\n      <td>21.000000</td>\n      <td>0.000000</td>\n      <td>0.000000</td>\n    </tr>\n    <tr>\n      <th>50%</th>\n      <td>28.000000</td>\n      <td>0.000000</td>\n      <td>0.000000</td>\n    </tr>\n    <tr>\n      <th>75%</th>\n      <td>39.000000</td>\n      <td>1.000000</td>\n      <td>1.000000</td>\n    </tr>\n    <tr>\n      <th>max</th>\n      <td>71.000000</td>\n      <td>1.000000</td>\n      <td>1.000000</td>\n    </tr>\n  </tbody>\n</table>\n</div>"
     },
     "execution_count": 21,
     "metadata": {},
     "output_type": "execute_result"
    }
   ],
   "source": [
    "import pandas as pd\n",
    "\n",
    "url = 'https://raw.githubusercontent.com/chrisalbon/simulated_datasets/master/titanic.csv'\n",
    "\n",
    "dataframe = pd.read_csv(url)\n"
   ],
   "metadata": {
    "collapsed": false
   }
  },
  {
   "cell_type": "code",
   "execution_count": 38,
   "outputs": [
    {
     "data": {
      "text/plain": "  Airline  Flight AirportFrom AirportTo  DayOfWeek  Time  Length  Delay\n0      CO     269         SFO       IAH          3    15     205      1\n1      US    1558         PHX       CLT          3    15     222      1",
      "text/html": "<div>\n<style scoped>\n    .dataframe tbody tr th:only-of-type {\n        vertical-align: middle;\n    }\n\n    .dataframe tbody tr th {\n        vertical-align: top;\n    }\n\n    .dataframe thead th {\n        text-align: right;\n    }\n</style>\n<table border=\"1\" class=\"dataframe\">\n  <thead>\n    <tr style=\"text-align: right;\">\n      <th></th>\n      <th>Airline</th>\n      <th>Flight</th>\n      <th>AirportFrom</th>\n      <th>AirportTo</th>\n      <th>DayOfWeek</th>\n      <th>Time</th>\n      <th>Length</th>\n      <th>Delay</th>\n    </tr>\n  </thead>\n  <tbody>\n    <tr>\n      <th>0</th>\n      <td>CO</td>\n      <td>269</td>\n      <td>SFO</td>\n      <td>IAH</td>\n      <td>3</td>\n      <td>15</td>\n      <td>205</td>\n      <td>1</td>\n    </tr>\n    <tr>\n      <th>1</th>\n      <td>US</td>\n      <td>1558</td>\n      <td>PHX</td>\n      <td>CLT</td>\n      <td>3</td>\n      <td>15</td>\n      <td>222</td>\n      <td>1</td>\n    </tr>\n  </tbody>\n</table>\n</div>"
     },
     "execution_count": 38,
     "metadata": {},
     "output_type": "execute_result"
    }
   ],
   "source": [
    "dataframe.head(2)"
   ],
   "metadata": {
    "collapsed": false
   }
  },
  {
   "cell_type": "code",
   "execution_count": 39,
   "outputs": [
    {
     "data": {
      "text/plain": "       Airline  Flight AirportFrom AirportTo  DayOfWeek  Time  Length  Delay\n539380      FL     609         SFO       MKE          5  1439     255      0\n539381      UA      78         HNL       SFO          5  1439     313      1\n539382      US    1442         LAX       PHL          5  1439     301      1",
      "text/html": "<div>\n<style scoped>\n    .dataframe tbody tr th:only-of-type {\n        vertical-align: middle;\n    }\n\n    .dataframe tbody tr th {\n        vertical-align: top;\n    }\n\n    .dataframe thead th {\n        text-align: right;\n    }\n</style>\n<table border=\"1\" class=\"dataframe\">\n  <thead>\n    <tr style=\"text-align: right;\">\n      <th></th>\n      <th>Airline</th>\n      <th>Flight</th>\n      <th>AirportFrom</th>\n      <th>AirportTo</th>\n      <th>DayOfWeek</th>\n      <th>Time</th>\n      <th>Length</th>\n      <th>Delay</th>\n    </tr>\n  </thead>\n  <tbody>\n    <tr>\n      <th>539380</th>\n      <td>FL</td>\n      <td>609</td>\n      <td>SFO</td>\n      <td>MKE</td>\n      <td>5</td>\n      <td>1439</td>\n      <td>255</td>\n      <td>0</td>\n    </tr>\n    <tr>\n      <th>539381</th>\n      <td>UA</td>\n      <td>78</td>\n      <td>HNL</td>\n      <td>SFO</td>\n      <td>5</td>\n      <td>1439</td>\n      <td>313</td>\n      <td>1</td>\n    </tr>\n    <tr>\n      <th>539382</th>\n      <td>US</td>\n      <td>1442</td>\n      <td>LAX</td>\n      <td>PHL</td>\n      <td>5</td>\n      <td>1439</td>\n      <td>301</td>\n      <td>1</td>\n    </tr>\n  </tbody>\n</table>\n</div>"
     },
     "execution_count": 39,
     "metadata": {},
     "output_type": "execute_result"
    }
   ],
   "source": [
    "dataframe.tail(3)"
   ],
   "metadata": {
    "collapsed": false
   }
  },
  {
   "cell_type": "code",
   "execution_count": 40,
   "outputs": [
    {
     "data": {
      "text/plain": "(539383, 8)"
     },
     "execution_count": 40,
     "metadata": {},
     "output_type": "execute_result"
    }
   ],
   "source": [
    "dataframe.shape"
   ],
   "metadata": {
    "collapsed": false
   }
  },
  {
   "cell_type": "code",
   "execution_count": 41,
   "outputs": [
    {
     "data": {
      "text/plain": "              Flight      DayOfWeek           Time         Length  \\\ncount  539383.000000  539383.000000  539383.000000  539383.000000   \nmean     2427.928630       3.929668     802.728963     132.202007   \nstd      2067.429837       1.914664     278.045911      70.117016   \nmin         1.000000       1.000000      10.000000       0.000000   \n25%       712.000000       2.000000     565.000000      81.000000   \n50%      1809.000000       4.000000     795.000000     115.000000   \n75%      3745.000000       5.000000    1035.000000     162.000000   \nmax      7814.000000       7.000000    1439.000000     655.000000   \n\n               Delay  \ncount  539383.000000  \nmean        0.445442  \nstd         0.497015  \nmin         0.000000  \n25%         0.000000  \n50%         0.000000  \n75%         1.000000  \nmax         1.000000  ",
      "text/html": "<div>\n<style scoped>\n    .dataframe tbody tr th:only-of-type {\n        vertical-align: middle;\n    }\n\n    .dataframe tbody tr th {\n        vertical-align: top;\n    }\n\n    .dataframe thead th {\n        text-align: right;\n    }\n</style>\n<table border=\"1\" class=\"dataframe\">\n  <thead>\n    <tr style=\"text-align: right;\">\n      <th></th>\n      <th>Flight</th>\n      <th>DayOfWeek</th>\n      <th>Time</th>\n      <th>Length</th>\n      <th>Delay</th>\n    </tr>\n  </thead>\n  <tbody>\n    <tr>\n      <th>count</th>\n      <td>539383.000000</td>\n      <td>539383.000000</td>\n      <td>539383.000000</td>\n      <td>539383.000000</td>\n      <td>539383.000000</td>\n    </tr>\n    <tr>\n      <th>mean</th>\n      <td>2427.928630</td>\n      <td>3.929668</td>\n      <td>802.728963</td>\n      <td>132.202007</td>\n      <td>0.445442</td>\n    </tr>\n    <tr>\n      <th>std</th>\n      <td>2067.429837</td>\n      <td>1.914664</td>\n      <td>278.045911</td>\n      <td>70.117016</td>\n      <td>0.497015</td>\n    </tr>\n    <tr>\n      <th>min</th>\n      <td>1.000000</td>\n      <td>1.000000</td>\n      <td>10.000000</td>\n      <td>0.000000</td>\n      <td>0.000000</td>\n    </tr>\n    <tr>\n      <th>25%</th>\n      <td>712.000000</td>\n      <td>2.000000</td>\n      <td>565.000000</td>\n      <td>81.000000</td>\n      <td>0.000000</td>\n    </tr>\n    <tr>\n      <th>50%</th>\n      <td>1809.000000</td>\n      <td>4.000000</td>\n      <td>795.000000</td>\n      <td>115.000000</td>\n      <td>0.000000</td>\n    </tr>\n    <tr>\n      <th>75%</th>\n      <td>3745.000000</td>\n      <td>5.000000</td>\n      <td>1035.000000</td>\n      <td>162.000000</td>\n      <td>1.000000</td>\n    </tr>\n    <tr>\n      <th>max</th>\n      <td>7814.000000</td>\n      <td>7.000000</td>\n      <td>1439.000000</td>\n      <td>655.000000</td>\n      <td>1.000000</td>\n    </tr>\n  </tbody>\n</table>\n</div>"
     },
     "execution_count": 41,
     "metadata": {},
     "output_type": "execute_result"
    }
   ],
   "source": [
    "dataframe.describe()"
   ],
   "metadata": {
    "collapsed": false
   }
  },
  {
   "cell_type": "markdown",
   "source": [
    "### 2.2.6 Пример\n",
    "Выберите индивидуальные данные или срезы фрейма данных."
   ],
   "metadata": {
    "collapsed": false
   }
  },
  {
   "cell_type": "code",
   "execution_count": 22,
   "outputs": [
    {
     "data": {
      "text/plain": "                                            Name PClass   Age     Sex  \\\n1                    Allison, Miss Helen Loraine    1st   2.0  female   \n2            Allison, Mr Hudson Joshua Creighton    1st  30.0    male   \n3  Allison, Mrs Hudson JC (Bessie Waldo Daniels)    1st  25.0  female   \n\n   Survived  SexCode  \n1         0        1  \n2         0        0  \n3         0        1  ",
      "text/html": "<div>\n<style scoped>\n    .dataframe tbody tr th:only-of-type {\n        vertical-align: middle;\n    }\n\n    .dataframe tbody tr th {\n        vertical-align: top;\n    }\n\n    .dataframe thead th {\n        text-align: right;\n    }\n</style>\n<table border=\"1\" class=\"dataframe\">\n  <thead>\n    <tr style=\"text-align: right;\">\n      <th></th>\n      <th>Name</th>\n      <th>PClass</th>\n      <th>Age</th>\n      <th>Sex</th>\n      <th>Survived</th>\n      <th>SexCode</th>\n    </tr>\n  </thead>\n  <tbody>\n    <tr>\n      <th>1</th>\n      <td>Allison, Miss Helen Loraine</td>\n      <td>1st</td>\n      <td>2.0</td>\n      <td>female</td>\n      <td>0</td>\n      <td>1</td>\n    </tr>\n    <tr>\n      <th>2</th>\n      <td>Allison, Mr Hudson Joshua Creighton</td>\n      <td>1st</td>\n      <td>30.0</td>\n      <td>male</td>\n      <td>0</td>\n      <td>0</td>\n    </tr>\n    <tr>\n      <th>3</th>\n      <td>Allison, Mrs Hudson JC (Bessie Waldo Daniels)</td>\n      <td>1st</td>\n      <td>25.0</td>\n      <td>female</td>\n      <td>0</td>\n      <td>1</td>\n    </tr>\n  </tbody>\n</table>\n</div>"
     },
     "execution_count": 22,
     "metadata": {},
     "output_type": "execute_result"
    }
   ],
   "source": [
    "import pandas as pd\n",
    "\n",
    "url = 'https://raw.githubusercontent.com/chrisalbon/simulated_datasets/master/titanic.csv'\n",
    "\n",
    "dataframe = pd.read_csv(url)\n",
    "dataframe.iloc[1:4]"
   ],
   "metadata": {
    "collapsed": false
   }
  },
  {
   "cell_type": "markdown",
   "source": [
    "### 2.2.7 Пример\n",
    "Требуется отобрать строки фрейма данных на основе некоторого\n",
    "условия. Необходимо сформировать новый фрейм данных из пассажиров\n",
    "первого класса."
   ],
   "metadata": {
    "collapsed": false
   }
  },
  {
   "cell_type": "code",
   "execution_count": 24,
   "outputs": [
    {
     "data": {
      "text/plain": "                           Name PClass   Age     Sex  Survived  SexCode\n0  Allen, Miss Elisabeth Walton    1st  29.0  female         1        1\n1   Allison, Miss Helen Loraine    1st   2.0  female         0        1",
      "text/html": "<div>\n<style scoped>\n    .dataframe tbody tr th:only-of-type {\n        vertical-align: middle;\n    }\n\n    .dataframe tbody tr th {\n        vertical-align: top;\n    }\n\n    .dataframe thead th {\n        text-align: right;\n    }\n</style>\n<table border=\"1\" class=\"dataframe\">\n  <thead>\n    <tr style=\"text-align: right;\">\n      <th></th>\n      <th>Name</th>\n      <th>PClass</th>\n      <th>Age</th>\n      <th>Sex</th>\n      <th>Survived</th>\n      <th>SexCode</th>\n    </tr>\n  </thead>\n  <tbody>\n    <tr>\n      <th>0</th>\n      <td>Allen, Miss Elisabeth Walton</td>\n      <td>1st</td>\n      <td>29.0</td>\n      <td>female</td>\n      <td>1</td>\n      <td>1</td>\n    </tr>\n    <tr>\n      <th>1</th>\n      <td>Allison, Miss Helen Loraine</td>\n      <td>1st</td>\n      <td>2.0</td>\n      <td>female</td>\n      <td>0</td>\n      <td>1</td>\n    </tr>\n  </tbody>\n</table>\n</div>"
     },
     "execution_count": 24,
     "metadata": {},
     "output_type": "execute_result"
    }
   ],
   "source": [
    "import pandas as pd\n",
    "\n",
    "url = 'https://raw.githubusercontent.com/chrisalbon/simulated_datasets/master/titanic.csv'\n",
    "\n",
    "dataframe = pd.read_csv(url)\n",
    "dataframe[dataframe['PClass']=='1st'].head(2)"
   ],
   "metadata": {
    "collapsed": false
   }
  },
  {
   "cell_type": "markdown",
   "source": [
    "### 2.3.1 Задание\n",
    "Найдите евклидово расстояние между двумя Series (точками) a и b, не\n",
    "используя встроенную формулу."
   ],
   "metadata": {
    "collapsed": false
   }
  },
  {
   "cell_type": "code",
   "execution_count": 34,
   "outputs": [
    {
     "name": "stdout",
     "output_type": "stream",
     "text": [
      "59.04235767650204\n",
      "59.04235767650204\n"
     ]
    }
   ],
   "source": [
    "import pandas as pd\n",
    "import numpy as np\n",
    "\n",
    "A = pd.Series([2,3,6,8])\n",
    "B = pd.Series([0,62,6,9])\n",
    "K = np.power(B-A,2)\n",
    "distance = np.sqrt(np.sum(K))\n",
    "print(distance)"
   ],
   "metadata": {
    "collapsed": false
   }
  },
  {
   "cell_type": "markdown",
   "source": [
    "### 2.3.2\n",
    "Найдите в Интернете ссылку на любой csv файл и сформируйте из него\n",
    "фрейм данных (например, коллекцию фреймов данных можно найти здесь: https://github.com/akmand/datasets)."
   ],
   "metadata": {
    "collapsed": false
   }
  },
  {
   "cell_type": "code",
   "execution_count": 37,
   "outputs": [
    {
     "data": {
      "text/plain": "  Airline  Flight AirportFrom AirportTo  DayOfWeek  Time  Length  Delay\n0      CO     269         SFO       IAH          3    15     205      1\n1      US    1558         PHX       CLT          3    15     222      1\n2      AA    2400         LAX       DFW          3    20     165      1\n3      AA    2466         SFO       DFW          3    20     195      1\n4      AS     108         ANC       SEA          3    30     202      0\n5      CO    1094         LAX       IAH          3    30     181      1\n6      DL    1768         LAX       MSP          3    30     220      0\n7      DL    2722         PHX       DTW          3    30     228      0\n8      DL    2606         SFO       MSP          3    35     216      1\n9      AA    2538         LAS       ORD          3    40     200      1",
      "text/html": "<div>\n<style scoped>\n    .dataframe tbody tr th:only-of-type {\n        vertical-align: middle;\n    }\n\n    .dataframe tbody tr th {\n        vertical-align: top;\n    }\n\n    .dataframe thead th {\n        text-align: right;\n    }\n</style>\n<table border=\"1\" class=\"dataframe\">\n  <thead>\n    <tr style=\"text-align: right;\">\n      <th></th>\n      <th>Airline</th>\n      <th>Flight</th>\n      <th>AirportFrom</th>\n      <th>AirportTo</th>\n      <th>DayOfWeek</th>\n      <th>Time</th>\n      <th>Length</th>\n      <th>Delay</th>\n    </tr>\n  </thead>\n  <tbody>\n    <tr>\n      <th>0</th>\n      <td>CO</td>\n      <td>269</td>\n      <td>SFO</td>\n      <td>IAH</td>\n      <td>3</td>\n      <td>15</td>\n      <td>205</td>\n      <td>1</td>\n    </tr>\n    <tr>\n      <th>1</th>\n      <td>US</td>\n      <td>1558</td>\n      <td>PHX</td>\n      <td>CLT</td>\n      <td>3</td>\n      <td>15</td>\n      <td>222</td>\n      <td>1</td>\n    </tr>\n    <tr>\n      <th>2</th>\n      <td>AA</td>\n      <td>2400</td>\n      <td>LAX</td>\n      <td>DFW</td>\n      <td>3</td>\n      <td>20</td>\n      <td>165</td>\n      <td>1</td>\n    </tr>\n    <tr>\n      <th>3</th>\n      <td>AA</td>\n      <td>2466</td>\n      <td>SFO</td>\n      <td>DFW</td>\n      <td>3</td>\n      <td>20</td>\n      <td>195</td>\n      <td>1</td>\n    </tr>\n    <tr>\n      <th>4</th>\n      <td>AS</td>\n      <td>108</td>\n      <td>ANC</td>\n      <td>SEA</td>\n      <td>3</td>\n      <td>30</td>\n      <td>202</td>\n      <td>0</td>\n    </tr>\n    <tr>\n      <th>5</th>\n      <td>CO</td>\n      <td>1094</td>\n      <td>LAX</td>\n      <td>IAH</td>\n      <td>3</td>\n      <td>30</td>\n      <td>181</td>\n      <td>1</td>\n    </tr>\n    <tr>\n      <th>6</th>\n      <td>DL</td>\n      <td>1768</td>\n      <td>LAX</td>\n      <td>MSP</td>\n      <td>3</td>\n      <td>30</td>\n      <td>220</td>\n      <td>0</td>\n    </tr>\n    <tr>\n      <th>7</th>\n      <td>DL</td>\n      <td>2722</td>\n      <td>PHX</td>\n      <td>DTW</td>\n      <td>3</td>\n      <td>30</td>\n      <td>228</td>\n      <td>0</td>\n    </tr>\n    <tr>\n      <th>8</th>\n      <td>DL</td>\n      <td>2606</td>\n      <td>SFO</td>\n      <td>MSP</td>\n      <td>3</td>\n      <td>35</td>\n      <td>216</td>\n      <td>1</td>\n    </tr>\n    <tr>\n      <th>9</th>\n      <td>AA</td>\n      <td>2538</td>\n      <td>LAS</td>\n      <td>ORD</td>\n      <td>3</td>\n      <td>40</td>\n      <td>200</td>\n      <td>1</td>\n    </tr>\n  </tbody>\n</table>\n</div>"
     },
     "execution_count": 37,
     "metadata": {},
     "output_type": "execute_result"
    }
   ],
   "source": [
    "import pandas as np\n",
    "\n",
    "url = 'https://raw.githubusercontent.com/akmand/datasets/main/airlines.csv'\n",
    "\n",
    "dataframe = pd.read_csv(url)\n",
    "dataframe.head(10)"
   ],
   "metadata": {
    "collapsed": false
   }
  },
  {
   "cell_type": "markdown",
   "source": [
    "### 2.3.3 Задание\n",
    "Проделайте с получившемся из предыдущего задания фреймом данных те же действия, что и в примерах 2.2.5-2.2.7."
   ],
   "metadata": {
    "collapsed": false
   }
  },
  {
   "cell_type": "code",
   "execution_count": 42,
   "outputs": [
    {
     "data": {
      "text/plain": "  Airline  Flight AirportFrom AirportTo  DayOfWeek  Time  Length  Delay\n0      CO     269         SFO       IAH          3    15     205      1\n1      US    1558         PHX       CLT          3    15     222      1",
      "text/html": "<div>\n<style scoped>\n    .dataframe tbody tr th:only-of-type {\n        vertical-align: middle;\n    }\n\n    .dataframe tbody tr th {\n        vertical-align: top;\n    }\n\n    .dataframe thead th {\n        text-align: right;\n    }\n</style>\n<table border=\"1\" class=\"dataframe\">\n  <thead>\n    <tr style=\"text-align: right;\">\n      <th></th>\n      <th>Airline</th>\n      <th>Flight</th>\n      <th>AirportFrom</th>\n      <th>AirportTo</th>\n      <th>DayOfWeek</th>\n      <th>Time</th>\n      <th>Length</th>\n      <th>Delay</th>\n    </tr>\n  </thead>\n  <tbody>\n    <tr>\n      <th>0</th>\n      <td>CO</td>\n      <td>269</td>\n      <td>SFO</td>\n      <td>IAH</td>\n      <td>3</td>\n      <td>15</td>\n      <td>205</td>\n      <td>1</td>\n    </tr>\n    <tr>\n      <th>1</th>\n      <td>US</td>\n      <td>1558</td>\n      <td>PHX</td>\n      <td>CLT</td>\n      <td>3</td>\n      <td>15</td>\n      <td>222</td>\n      <td>1</td>\n    </tr>\n  </tbody>\n</table>\n</div>"
     },
     "execution_count": 42,
     "metadata": {},
     "output_type": "execute_result"
    }
   ],
   "source": [
    "dataframe.head(2)"
   ],
   "metadata": {
    "collapsed": false
   }
  },
  {
   "cell_type": "code",
   "execution_count": 43,
   "outputs": [
    {
     "data": {
      "text/plain": "       Airline  Flight AirportFrom AirportTo  DayOfWeek  Time  Length  Delay\n539380      FL     609         SFO       MKE          5  1439     255      0\n539381      UA      78         HNL       SFO          5  1439     313      1\n539382      US    1442         LAX       PHL          5  1439     301      1",
      "text/html": "<div>\n<style scoped>\n    .dataframe tbody tr th:only-of-type {\n        vertical-align: middle;\n    }\n\n    .dataframe tbody tr th {\n        vertical-align: top;\n    }\n\n    .dataframe thead th {\n        text-align: right;\n    }\n</style>\n<table border=\"1\" class=\"dataframe\">\n  <thead>\n    <tr style=\"text-align: right;\">\n      <th></th>\n      <th>Airline</th>\n      <th>Flight</th>\n      <th>AirportFrom</th>\n      <th>AirportTo</th>\n      <th>DayOfWeek</th>\n      <th>Time</th>\n      <th>Length</th>\n      <th>Delay</th>\n    </tr>\n  </thead>\n  <tbody>\n    <tr>\n      <th>539380</th>\n      <td>FL</td>\n      <td>609</td>\n      <td>SFO</td>\n      <td>MKE</td>\n      <td>5</td>\n      <td>1439</td>\n      <td>255</td>\n      <td>0</td>\n    </tr>\n    <tr>\n      <th>539381</th>\n      <td>UA</td>\n      <td>78</td>\n      <td>HNL</td>\n      <td>SFO</td>\n      <td>5</td>\n      <td>1439</td>\n      <td>313</td>\n      <td>1</td>\n    </tr>\n    <tr>\n      <th>539382</th>\n      <td>US</td>\n      <td>1442</td>\n      <td>LAX</td>\n      <td>PHL</td>\n      <td>5</td>\n      <td>1439</td>\n      <td>301</td>\n      <td>1</td>\n    </tr>\n  </tbody>\n</table>\n</div>"
     },
     "execution_count": 43,
     "metadata": {},
     "output_type": "execute_result"
    }
   ],
   "source": [
    "dataframe.tail(3)"
   ],
   "metadata": {
    "collapsed": false
   }
  },
  {
   "cell_type": "code",
   "execution_count": 44,
   "outputs": [
    {
     "data": {
      "text/plain": "(539383, 8)"
     },
     "execution_count": 44,
     "metadata": {},
     "output_type": "execute_result"
    }
   ],
   "source": [
    "dataframe.shape"
   ],
   "metadata": {
    "collapsed": false
   }
  },
  {
   "cell_type": "code",
   "execution_count": 59,
   "outputs": [
    {
     "data": {
      "text/plain": "              Flight      DayOfWeek           Time         Length  \\\ncount  539383.000000  539383.000000  539383.000000  539383.000000   \nmean     2427.928630       3.929668     802.728963     132.202007   \nstd      2067.429837       1.914664     278.045911      70.117016   \nmin         1.000000       1.000000      10.000000       0.000000   \n25%       712.000000       2.000000     565.000000      81.000000   \n50%      1809.000000       4.000000     795.000000     115.000000   \n75%      3745.000000       5.000000    1035.000000     162.000000   \nmax      7814.000000       7.000000    1439.000000     655.000000   \n\n               Delay  \ncount  539383.000000  \nmean        0.445442  \nstd         0.497015  \nmin         0.000000  \n25%         0.000000  \n50%         0.000000  \n75%         1.000000  \nmax         1.000000  ",
      "text/html": "<div>\n<style scoped>\n    .dataframe tbody tr th:only-of-type {\n        vertical-align: middle;\n    }\n\n    .dataframe tbody tr th {\n        vertical-align: top;\n    }\n\n    .dataframe thead th {\n        text-align: right;\n    }\n</style>\n<table border=\"1\" class=\"dataframe\">\n  <thead>\n    <tr style=\"text-align: right;\">\n      <th></th>\n      <th>Flight</th>\n      <th>DayOfWeek</th>\n      <th>Time</th>\n      <th>Length</th>\n      <th>Delay</th>\n    </tr>\n  </thead>\n  <tbody>\n    <tr>\n      <th>count</th>\n      <td>539383.000000</td>\n      <td>539383.000000</td>\n      <td>539383.000000</td>\n      <td>539383.000000</td>\n      <td>539383.000000</td>\n    </tr>\n    <tr>\n      <th>mean</th>\n      <td>2427.928630</td>\n      <td>3.929668</td>\n      <td>802.728963</td>\n      <td>132.202007</td>\n      <td>0.445442</td>\n    </tr>\n    <tr>\n      <th>std</th>\n      <td>2067.429837</td>\n      <td>1.914664</td>\n      <td>278.045911</td>\n      <td>70.117016</td>\n      <td>0.497015</td>\n    </tr>\n    <tr>\n      <th>min</th>\n      <td>1.000000</td>\n      <td>1.000000</td>\n      <td>10.000000</td>\n      <td>0.000000</td>\n      <td>0.000000</td>\n    </tr>\n    <tr>\n      <th>25%</th>\n      <td>712.000000</td>\n      <td>2.000000</td>\n      <td>565.000000</td>\n      <td>81.000000</td>\n      <td>0.000000</td>\n    </tr>\n    <tr>\n      <th>50%</th>\n      <td>1809.000000</td>\n      <td>4.000000</td>\n      <td>795.000000</td>\n      <td>115.000000</td>\n      <td>0.000000</td>\n    </tr>\n    <tr>\n      <th>75%</th>\n      <td>3745.000000</td>\n      <td>5.000000</td>\n      <td>1035.000000</td>\n      <td>162.000000</td>\n      <td>1.000000</td>\n    </tr>\n    <tr>\n      <th>max</th>\n      <td>7814.000000</td>\n      <td>7.000000</td>\n      <td>1439.000000</td>\n      <td>655.000000</td>\n      <td>1.000000</td>\n    </tr>\n  </tbody>\n</table>\n</div>"
     },
     "execution_count": 59,
     "metadata": {},
     "output_type": "execute_result"
    }
   ],
   "source": [
    "dataframe.describe()"
   ],
   "metadata": {
    "collapsed": false
   }
  },
  {
   "cell_type": "code",
   "execution_count": 58,
   "outputs": [
    {
     "data": {
      "text/plain": "    Airline  Flight AirportFrom AirportTo  DayOfWeek  Time  Length  Delay\n100      9E    3998         TLH       ATL          3   338      68      0\n101      9E    4196         TYS       ATL          3   340      57      0\n102      CO     214         DFW       IAH          3   340      59      1\n103      DL    2123         BOS       DTW          3   340     144      0\n104      DL    2597         RIC       ATL          3   340     109      0\n105      DL    2626         FLL       ATL          3   340     118      0\n106      DL     684         AUS       ATL          3   340     134      0\n107      EV    5583         CHA       ATL          3   340      47      0\n108      MQ    4563         CMH       LGA          3   340     100      0\n109      XE    2616         LRD       IAH          3   340      66      1\n110      XE    3006         BRO       IAH          3   340      70      0\n111      XE    3015         CRP       IAH          3   340      59      1\n112      XE    5970         LAN       ORD          3   340      71      0\n113      9E    3659         ALB       ATL          3   345     183      0\n114      9E    3862         SAT       MEM          3   345     119      1\n115      9E    3949         PVD       DTW          3   345     135      1\n116      9E    4143         FWA       DTW          3   345      59      0\n117      AA    1141         JFK       MIA          3   345     190      0\n118      AA    1297         DFW       MIA          3   345     160      0\n119      AA    2320         DFW       ORD          3   345     140      0\n120      CO    1677         PHL       IAH          3   345     219      0\n121      CO    1727         BWI       IAH          3   345     208      0\n122      CO     240         AUS       IAH          3   345      55      0\n123      CO     278         SAT       IAH          3   345      54      0\n124      CO     633         LGA       IAH          3   345     235      0\n125      DL    1095         OKC       ATL          3   345     127      0\n126      DL    1112         PIT       ATL          3   345     131      1\n127      DL    1506         LAX       DTW          3   345     270      0\n128      DL    1580         SFO       DTW          3   345     270      0\n129      DL    2320         PBI       ATL          3   345     113      0\n130      DL    2481         ORF       ATL          3   345     120      0\n131      DL    2710         DFW       ATL          3   345     132      0\n132      DL    2939         DCA       ATL          3   345     120      1\n133      EV    5142         AEX       ATL          3   345     119      0\n134      EV    5218         SYR       ATL          3   345     158      0\n135      EV    5233         BTR       ATL          3   345      97      0\n136      EV    5362         SHV       ATL          3   345     123      1\n137      EV    5501         VLD       ATL          3   345      62      0\n138      OH    6264         BDL       CVG          3   345     133      0\n139      OH    6549         MFE       MEM          3   345     118      0\n140      OO    6407         FAT       SFO          3   345      45      0\n141      OO    6647         BZN       DEN          3   345     107      0\n142      OO    6925         PHX       LAX          3   345      85      0\n143      OO    6964         RDM       PDX          3   345      58      0\n144      US    1423         DCA       CLT          3   345      85      0\n145      XE    2919         LFT       IAH          3   345      58      0\n146      XE    5951         CAK       ORD          3   345      95      0\n147      OO    6480         IPL       YUM          3   346      34      0\n148      OO    6843         EAU       CWA          3   346      32      0\n149      UA     756         SFO       DEN          3   348     158      0",
      "text/html": "<div>\n<style scoped>\n    .dataframe tbody tr th:only-of-type {\n        vertical-align: middle;\n    }\n\n    .dataframe tbody tr th {\n        vertical-align: top;\n    }\n\n    .dataframe thead th {\n        text-align: right;\n    }\n</style>\n<table border=\"1\" class=\"dataframe\">\n  <thead>\n    <tr style=\"text-align: right;\">\n      <th></th>\n      <th>Airline</th>\n      <th>Flight</th>\n      <th>AirportFrom</th>\n      <th>AirportTo</th>\n      <th>DayOfWeek</th>\n      <th>Time</th>\n      <th>Length</th>\n      <th>Delay</th>\n    </tr>\n  </thead>\n  <tbody>\n    <tr>\n      <th>100</th>\n      <td>9E</td>\n      <td>3998</td>\n      <td>TLH</td>\n      <td>ATL</td>\n      <td>3</td>\n      <td>338</td>\n      <td>68</td>\n      <td>0</td>\n    </tr>\n    <tr>\n      <th>101</th>\n      <td>9E</td>\n      <td>4196</td>\n      <td>TYS</td>\n      <td>ATL</td>\n      <td>3</td>\n      <td>340</td>\n      <td>57</td>\n      <td>0</td>\n    </tr>\n    <tr>\n      <th>102</th>\n      <td>CO</td>\n      <td>214</td>\n      <td>DFW</td>\n      <td>IAH</td>\n      <td>3</td>\n      <td>340</td>\n      <td>59</td>\n      <td>1</td>\n    </tr>\n    <tr>\n      <th>103</th>\n      <td>DL</td>\n      <td>2123</td>\n      <td>BOS</td>\n      <td>DTW</td>\n      <td>3</td>\n      <td>340</td>\n      <td>144</td>\n      <td>0</td>\n    </tr>\n    <tr>\n      <th>104</th>\n      <td>DL</td>\n      <td>2597</td>\n      <td>RIC</td>\n      <td>ATL</td>\n      <td>3</td>\n      <td>340</td>\n      <td>109</td>\n      <td>0</td>\n    </tr>\n    <tr>\n      <th>105</th>\n      <td>DL</td>\n      <td>2626</td>\n      <td>FLL</td>\n      <td>ATL</td>\n      <td>3</td>\n      <td>340</td>\n      <td>118</td>\n      <td>0</td>\n    </tr>\n    <tr>\n      <th>106</th>\n      <td>DL</td>\n      <td>684</td>\n      <td>AUS</td>\n      <td>ATL</td>\n      <td>3</td>\n      <td>340</td>\n      <td>134</td>\n      <td>0</td>\n    </tr>\n    <tr>\n      <th>107</th>\n      <td>EV</td>\n      <td>5583</td>\n      <td>CHA</td>\n      <td>ATL</td>\n      <td>3</td>\n      <td>340</td>\n      <td>47</td>\n      <td>0</td>\n    </tr>\n    <tr>\n      <th>108</th>\n      <td>MQ</td>\n      <td>4563</td>\n      <td>CMH</td>\n      <td>LGA</td>\n      <td>3</td>\n      <td>340</td>\n      <td>100</td>\n      <td>0</td>\n    </tr>\n    <tr>\n      <th>109</th>\n      <td>XE</td>\n      <td>2616</td>\n      <td>LRD</td>\n      <td>IAH</td>\n      <td>3</td>\n      <td>340</td>\n      <td>66</td>\n      <td>1</td>\n    </tr>\n    <tr>\n      <th>110</th>\n      <td>XE</td>\n      <td>3006</td>\n      <td>BRO</td>\n      <td>IAH</td>\n      <td>3</td>\n      <td>340</td>\n      <td>70</td>\n      <td>0</td>\n    </tr>\n    <tr>\n      <th>111</th>\n      <td>XE</td>\n      <td>3015</td>\n      <td>CRP</td>\n      <td>IAH</td>\n      <td>3</td>\n      <td>340</td>\n      <td>59</td>\n      <td>1</td>\n    </tr>\n    <tr>\n      <th>112</th>\n      <td>XE</td>\n      <td>5970</td>\n      <td>LAN</td>\n      <td>ORD</td>\n      <td>3</td>\n      <td>340</td>\n      <td>71</td>\n      <td>0</td>\n    </tr>\n    <tr>\n      <th>113</th>\n      <td>9E</td>\n      <td>3659</td>\n      <td>ALB</td>\n      <td>ATL</td>\n      <td>3</td>\n      <td>345</td>\n      <td>183</td>\n      <td>0</td>\n    </tr>\n    <tr>\n      <th>114</th>\n      <td>9E</td>\n      <td>3862</td>\n      <td>SAT</td>\n      <td>MEM</td>\n      <td>3</td>\n      <td>345</td>\n      <td>119</td>\n      <td>1</td>\n    </tr>\n    <tr>\n      <th>115</th>\n      <td>9E</td>\n      <td>3949</td>\n      <td>PVD</td>\n      <td>DTW</td>\n      <td>3</td>\n      <td>345</td>\n      <td>135</td>\n      <td>1</td>\n    </tr>\n    <tr>\n      <th>116</th>\n      <td>9E</td>\n      <td>4143</td>\n      <td>FWA</td>\n      <td>DTW</td>\n      <td>3</td>\n      <td>345</td>\n      <td>59</td>\n      <td>0</td>\n    </tr>\n    <tr>\n      <th>117</th>\n      <td>AA</td>\n      <td>1141</td>\n      <td>JFK</td>\n      <td>MIA</td>\n      <td>3</td>\n      <td>345</td>\n      <td>190</td>\n      <td>0</td>\n    </tr>\n    <tr>\n      <th>118</th>\n      <td>AA</td>\n      <td>1297</td>\n      <td>DFW</td>\n      <td>MIA</td>\n      <td>3</td>\n      <td>345</td>\n      <td>160</td>\n      <td>0</td>\n    </tr>\n    <tr>\n      <th>119</th>\n      <td>AA</td>\n      <td>2320</td>\n      <td>DFW</td>\n      <td>ORD</td>\n      <td>3</td>\n      <td>345</td>\n      <td>140</td>\n      <td>0</td>\n    </tr>\n    <tr>\n      <th>120</th>\n      <td>CO</td>\n      <td>1677</td>\n      <td>PHL</td>\n      <td>IAH</td>\n      <td>3</td>\n      <td>345</td>\n      <td>219</td>\n      <td>0</td>\n    </tr>\n    <tr>\n      <th>121</th>\n      <td>CO</td>\n      <td>1727</td>\n      <td>BWI</td>\n      <td>IAH</td>\n      <td>3</td>\n      <td>345</td>\n      <td>208</td>\n      <td>0</td>\n    </tr>\n    <tr>\n      <th>122</th>\n      <td>CO</td>\n      <td>240</td>\n      <td>AUS</td>\n      <td>IAH</td>\n      <td>3</td>\n      <td>345</td>\n      <td>55</td>\n      <td>0</td>\n    </tr>\n    <tr>\n      <th>123</th>\n      <td>CO</td>\n      <td>278</td>\n      <td>SAT</td>\n      <td>IAH</td>\n      <td>3</td>\n      <td>345</td>\n      <td>54</td>\n      <td>0</td>\n    </tr>\n    <tr>\n      <th>124</th>\n      <td>CO</td>\n      <td>633</td>\n      <td>LGA</td>\n      <td>IAH</td>\n      <td>3</td>\n      <td>345</td>\n      <td>235</td>\n      <td>0</td>\n    </tr>\n    <tr>\n      <th>125</th>\n      <td>DL</td>\n      <td>1095</td>\n      <td>OKC</td>\n      <td>ATL</td>\n      <td>3</td>\n      <td>345</td>\n      <td>127</td>\n      <td>0</td>\n    </tr>\n    <tr>\n      <th>126</th>\n      <td>DL</td>\n      <td>1112</td>\n      <td>PIT</td>\n      <td>ATL</td>\n      <td>3</td>\n      <td>345</td>\n      <td>131</td>\n      <td>1</td>\n    </tr>\n    <tr>\n      <th>127</th>\n      <td>DL</td>\n      <td>1506</td>\n      <td>LAX</td>\n      <td>DTW</td>\n      <td>3</td>\n      <td>345</td>\n      <td>270</td>\n      <td>0</td>\n    </tr>\n    <tr>\n      <th>128</th>\n      <td>DL</td>\n      <td>1580</td>\n      <td>SFO</td>\n      <td>DTW</td>\n      <td>3</td>\n      <td>345</td>\n      <td>270</td>\n      <td>0</td>\n    </tr>\n    <tr>\n      <th>129</th>\n      <td>DL</td>\n      <td>2320</td>\n      <td>PBI</td>\n      <td>ATL</td>\n      <td>3</td>\n      <td>345</td>\n      <td>113</td>\n      <td>0</td>\n    </tr>\n    <tr>\n      <th>130</th>\n      <td>DL</td>\n      <td>2481</td>\n      <td>ORF</td>\n      <td>ATL</td>\n      <td>3</td>\n      <td>345</td>\n      <td>120</td>\n      <td>0</td>\n    </tr>\n    <tr>\n      <th>131</th>\n      <td>DL</td>\n      <td>2710</td>\n      <td>DFW</td>\n      <td>ATL</td>\n      <td>3</td>\n      <td>345</td>\n      <td>132</td>\n      <td>0</td>\n    </tr>\n    <tr>\n      <th>132</th>\n      <td>DL</td>\n      <td>2939</td>\n      <td>DCA</td>\n      <td>ATL</td>\n      <td>3</td>\n      <td>345</td>\n      <td>120</td>\n      <td>1</td>\n    </tr>\n    <tr>\n      <th>133</th>\n      <td>EV</td>\n      <td>5142</td>\n      <td>AEX</td>\n      <td>ATL</td>\n      <td>3</td>\n      <td>345</td>\n      <td>119</td>\n      <td>0</td>\n    </tr>\n    <tr>\n      <th>134</th>\n      <td>EV</td>\n      <td>5218</td>\n      <td>SYR</td>\n      <td>ATL</td>\n      <td>3</td>\n      <td>345</td>\n      <td>158</td>\n      <td>0</td>\n    </tr>\n    <tr>\n      <th>135</th>\n      <td>EV</td>\n      <td>5233</td>\n      <td>BTR</td>\n      <td>ATL</td>\n      <td>3</td>\n      <td>345</td>\n      <td>97</td>\n      <td>0</td>\n    </tr>\n    <tr>\n      <th>136</th>\n      <td>EV</td>\n      <td>5362</td>\n      <td>SHV</td>\n      <td>ATL</td>\n      <td>3</td>\n      <td>345</td>\n      <td>123</td>\n      <td>1</td>\n    </tr>\n    <tr>\n      <th>137</th>\n      <td>EV</td>\n      <td>5501</td>\n      <td>VLD</td>\n      <td>ATL</td>\n      <td>3</td>\n      <td>345</td>\n      <td>62</td>\n      <td>0</td>\n    </tr>\n    <tr>\n      <th>138</th>\n      <td>OH</td>\n      <td>6264</td>\n      <td>BDL</td>\n      <td>CVG</td>\n      <td>3</td>\n      <td>345</td>\n      <td>133</td>\n      <td>0</td>\n    </tr>\n    <tr>\n      <th>139</th>\n      <td>OH</td>\n      <td>6549</td>\n      <td>MFE</td>\n      <td>MEM</td>\n      <td>3</td>\n      <td>345</td>\n      <td>118</td>\n      <td>0</td>\n    </tr>\n    <tr>\n      <th>140</th>\n      <td>OO</td>\n      <td>6407</td>\n      <td>FAT</td>\n      <td>SFO</td>\n      <td>3</td>\n      <td>345</td>\n      <td>45</td>\n      <td>0</td>\n    </tr>\n    <tr>\n      <th>141</th>\n      <td>OO</td>\n      <td>6647</td>\n      <td>BZN</td>\n      <td>DEN</td>\n      <td>3</td>\n      <td>345</td>\n      <td>107</td>\n      <td>0</td>\n    </tr>\n    <tr>\n      <th>142</th>\n      <td>OO</td>\n      <td>6925</td>\n      <td>PHX</td>\n      <td>LAX</td>\n      <td>3</td>\n      <td>345</td>\n      <td>85</td>\n      <td>0</td>\n    </tr>\n    <tr>\n      <th>143</th>\n      <td>OO</td>\n      <td>6964</td>\n      <td>RDM</td>\n      <td>PDX</td>\n      <td>3</td>\n      <td>345</td>\n      <td>58</td>\n      <td>0</td>\n    </tr>\n    <tr>\n      <th>144</th>\n      <td>US</td>\n      <td>1423</td>\n      <td>DCA</td>\n      <td>CLT</td>\n      <td>3</td>\n      <td>345</td>\n      <td>85</td>\n      <td>0</td>\n    </tr>\n    <tr>\n      <th>145</th>\n      <td>XE</td>\n      <td>2919</td>\n      <td>LFT</td>\n      <td>IAH</td>\n      <td>3</td>\n      <td>345</td>\n      <td>58</td>\n      <td>0</td>\n    </tr>\n    <tr>\n      <th>146</th>\n      <td>XE</td>\n      <td>5951</td>\n      <td>CAK</td>\n      <td>ORD</td>\n      <td>3</td>\n      <td>345</td>\n      <td>95</td>\n      <td>0</td>\n    </tr>\n    <tr>\n      <th>147</th>\n      <td>OO</td>\n      <td>6480</td>\n      <td>IPL</td>\n      <td>YUM</td>\n      <td>3</td>\n      <td>346</td>\n      <td>34</td>\n      <td>0</td>\n    </tr>\n    <tr>\n      <th>148</th>\n      <td>OO</td>\n      <td>6843</td>\n      <td>EAU</td>\n      <td>CWA</td>\n      <td>3</td>\n      <td>346</td>\n      <td>32</td>\n      <td>0</td>\n    </tr>\n    <tr>\n      <th>149</th>\n      <td>UA</td>\n      <td>756</td>\n      <td>SFO</td>\n      <td>DEN</td>\n      <td>3</td>\n      <td>348</td>\n      <td>158</td>\n      <td>0</td>\n    </tr>\n  </tbody>\n</table>\n</div>"
     },
     "execution_count": 58,
     "metadata": {},
     "output_type": "execute_result"
    }
   ],
   "source": [
    "#Срез 100-150\n",
    "dataframe_cut = dataframe\n",
    "dataframe_cut.iloc[100:150]"
   ],
   "metadata": {
    "collapsed": false
   }
  },
  {
   "cell_type": "code",
   "execution_count": 76,
   "outputs": [
    {
     "data": {
      "text/plain": "    Airline  Flight AirportFrom AirportTo  DayOfWeek  Time  Length  Delay\n0        CO     269         SFO       IAH          3    15     205      1\n1        US    1558         PHX       CLT          3    15     222      1\n2        AA    2400         LAX       DFW          3    20     165      1\n3        AA    2466         SFO       DFW          3    20     195      1\n5        CO    1094         LAX       IAH          3    30     181      1\n..      ...     ...         ...       ...        ...   ...     ...    ...\n471      US      86         OMA       PHX          3   360     175      1\n473      US     985         MSY       CLT          3   360     108      1\n474      WN    1067         OAK       SAN          3   360      85      1\n478      WN    1851         ONT       OAK          3   360      80      1\n480      WN    2529         IND       DEN          3   360     185      1\n\n[100 rows x 8 columns]",
      "text/html": "<div>\n<style scoped>\n    .dataframe tbody tr th:only-of-type {\n        vertical-align: middle;\n    }\n\n    .dataframe tbody tr th {\n        vertical-align: top;\n    }\n\n    .dataframe thead th {\n        text-align: right;\n    }\n</style>\n<table border=\"1\" class=\"dataframe\">\n  <thead>\n    <tr style=\"text-align: right;\">\n      <th></th>\n      <th>Airline</th>\n      <th>Flight</th>\n      <th>AirportFrom</th>\n      <th>AirportTo</th>\n      <th>DayOfWeek</th>\n      <th>Time</th>\n      <th>Length</th>\n      <th>Delay</th>\n    </tr>\n  </thead>\n  <tbody>\n    <tr>\n      <th>0</th>\n      <td>CO</td>\n      <td>269</td>\n      <td>SFO</td>\n      <td>IAH</td>\n      <td>3</td>\n      <td>15</td>\n      <td>205</td>\n      <td>1</td>\n    </tr>\n    <tr>\n      <th>1</th>\n      <td>US</td>\n      <td>1558</td>\n      <td>PHX</td>\n      <td>CLT</td>\n      <td>3</td>\n      <td>15</td>\n      <td>222</td>\n      <td>1</td>\n    </tr>\n    <tr>\n      <th>2</th>\n      <td>AA</td>\n      <td>2400</td>\n      <td>LAX</td>\n      <td>DFW</td>\n      <td>3</td>\n      <td>20</td>\n      <td>165</td>\n      <td>1</td>\n    </tr>\n    <tr>\n      <th>3</th>\n      <td>AA</td>\n      <td>2466</td>\n      <td>SFO</td>\n      <td>DFW</td>\n      <td>3</td>\n      <td>20</td>\n      <td>195</td>\n      <td>1</td>\n    </tr>\n    <tr>\n      <th>5</th>\n      <td>CO</td>\n      <td>1094</td>\n      <td>LAX</td>\n      <td>IAH</td>\n      <td>3</td>\n      <td>30</td>\n      <td>181</td>\n      <td>1</td>\n    </tr>\n    <tr>\n      <th>...</th>\n      <td>...</td>\n      <td>...</td>\n      <td>...</td>\n      <td>...</td>\n      <td>...</td>\n      <td>...</td>\n      <td>...</td>\n      <td>...</td>\n    </tr>\n    <tr>\n      <th>471</th>\n      <td>US</td>\n      <td>86</td>\n      <td>OMA</td>\n      <td>PHX</td>\n      <td>3</td>\n      <td>360</td>\n      <td>175</td>\n      <td>1</td>\n    </tr>\n    <tr>\n      <th>473</th>\n      <td>US</td>\n      <td>985</td>\n      <td>MSY</td>\n      <td>CLT</td>\n      <td>3</td>\n      <td>360</td>\n      <td>108</td>\n      <td>1</td>\n    </tr>\n    <tr>\n      <th>474</th>\n      <td>WN</td>\n      <td>1067</td>\n      <td>OAK</td>\n      <td>SAN</td>\n      <td>3</td>\n      <td>360</td>\n      <td>85</td>\n      <td>1</td>\n    </tr>\n    <tr>\n      <th>478</th>\n      <td>WN</td>\n      <td>1851</td>\n      <td>ONT</td>\n      <td>OAK</td>\n      <td>3</td>\n      <td>360</td>\n      <td>80</td>\n      <td>1</td>\n    </tr>\n    <tr>\n      <th>480</th>\n      <td>WN</td>\n      <td>2529</td>\n      <td>IND</td>\n      <td>DEN</td>\n      <td>3</td>\n      <td>360</td>\n      <td>185</td>\n      <td>1</td>\n    </tr>\n  </tbody>\n</table>\n<p>100 rows × 8 columns</p>\n</div>"
     },
     "execution_count": 76,
     "metadata": {},
     "output_type": "execute_result"
    }
   ],
   "source": [
    "#100 рейсов с задержкой\n",
    "dataframe[dataframe['Delay'] > 0].head(100)"
   ],
   "metadata": {
    "collapsed": false
   }
  },
  {
   "cell_type": "markdown",
   "source": [
    "## 3 Работа с числовыми данными\n",
    "Количественные данные что-то измеряют – будь то размер класса,\n",
    "ежемесячные продажи или оценки учащихся. Естественным способом\n",
    "представления этих величин является численным (например, 150 студентов,\n",
    "$529 392 продаж).\n",
    "Нормализация данных — это общепринятая задача предобработки в\n",
    "машинном обучении. Многие алгоритмы предполагают, что все признаки\n",
    "находятся в единой шкале, как правило, от 0 до 1 или от -1 до 1.\n",
    "Существует множество способов нормализации значений признаков,\n",
    "чтобы масштабировать их к единому диапазону и использовать в различных\n",
    "моделях машинного обучения. В зависимости от используемой функции, их\n",
    "можно разделить на 2 большие группы: линейные и нелинейные. При\n",
    "нелинейной нормализации в расчетных соотношениях используются\n",
    "функции логистической сигмоиды или гиперболического тангенса. В\n",
    "линейной нормализации изменение переменных осуществляется\n",
    "пропорционально, по линейному закону.\n",
    "На практике наиболее распространены следующие методы\n",
    "нормализации признаков:\n",
    "- Минимакс – линейное преобразование данных в диапазоне [0..1], где\n",
    "минимальное и максимальное масштабируемые значения\n",
    "соответствуют 0 и 1 соответственно;\n",
    "![Minimax](./imgs/minimax.png)\n",
    "- Z-масштабирование данных на основе среднего значения и\n",
    "стандартного отклонения: производят деление разницы между\n",
    "переменной и средним значением на стандартное отклонение.\n",
    "![Z-Scaling](./imgs/z-scaling.png)\n",
    "\n",
    "При масштабировании данных мы будем использовать одну из\n",
    "популярных библиотек машинного обучения Scikit-learn. Библиотека\n",
    "содержит пакет sklearn.preprocessing, который предоставляет широкие\n",
    "возможности для нормализации данных. Следует отметить, что в целом\n",
    "алгоритмы обучения выигрывают от стандартизации набора данных."
   ],
   "metadata": {
    "collapsed": false
   }
  },
  {
   "cell_type": "markdown",
   "source": [
    "### 3.2.1 Пример\n",
    "Прошкалируйте числовой признак в диапазон между двумя значениями"
   ],
   "metadata": {
    "collapsed": false
   }
  },
  {
   "cell_type": "code",
   "execution_count": 84,
   "outputs": [
    {
     "data": {
      "text/plain": "array([[0.        ],\n       [0.28571429],\n       [0.35714286],\n       [0.42857143],\n       [1.        ]])"
     },
     "execution_count": 84,
     "metadata": {},
     "output_type": "execute_result"
    }
   ],
   "source": [
    "import numpy as np\n",
    "from sklearn import preprocessing\n",
    "\n",
    "feature = np.array([[-500.5],[-100.1],[0],[100.1],[900.9]])\n",
    "\n",
    "minimax_scale = preprocessing.MinMaxScaler(feature_range=(0,1))\n",
    "scaled_feature = minimax_scale.fit_transform(feature)\n",
    "\n",
    "scaled_feature"
   ],
   "metadata": {
    "collapsed": false
   }
  },
  {
   "cell_type": "markdown",
   "source": [],
   "metadata": {
    "collapsed": false
   }
  },
  {
   "cell_type": "markdown",
   "source": [
    "### 3.2.2 Задание\n",
    "Преобразуйте признак, чтобы он имел среднее значение 0 и стандартное\n",
    "отклонение 1."
   ],
   "metadata": {
    "collapsed": false
   }
  },
  {
   "cell_type": "code",
   "execution_count": 88,
   "outputs": [
    {
     "data": {
      "text/plain": "array([[-0.76058269],\n       [-0.54177196],\n       [-0.35009716],\n       [-0.32271504],\n       [ 1.97516685]])"
     },
     "execution_count": 88,
     "metadata": {},
     "output_type": "execute_result"
    }
   ],
   "source": [
    "x = np.array([[-1000.1],[-200.2],[500.5],[600.6],[9000.9]])\n",
    "scaler = preprocessing.StandardScaler()\n",
    "\n",
    "standard = scaler.fit_transform(x)\n",
    "\n",
    "standard\n"
   ],
   "metadata": {
    "collapsed": false
   }
  },
  {
   "cell_type": "code",
   "execution_count": 87,
   "outputs": [
    {
     "name": "stdout",
     "output_type": "stream",
     "text": [
      "Среднее:  0\n",
      "Стандартное отклонение:  1.0\n"
     ]
    }
   ],
   "source": [
    "print('Среднее: ', round(standard.mean()))\n",
    "print('Стандартное отклонение: ',standard.std())"
   ],
   "metadata": {
    "collapsed": false
   }
  },
  {
   "cell_type": "markdown",
   "source": [
    "# 3.2.3 Пример\n",
    "Дан фрейм данных\n",
    "```python\n",
    "dfTest = pd.DataFrame({'A':[14.00,90.20,90.95,96.27,91.21],\n",
    " 'B':[103.02,107.26,110.35,114.23,114.68],\n",
    " 'C':['big','small','big','small','small']})\n",
    "```\n",
    "Необходимо масштабировать его числовые столбцы."
   ],
   "metadata": {
    "collapsed": false
   }
  },
  {
   "cell_type": "code",
   "execution_count": 90,
   "outputs": [
    {
     "data": {
      "text/plain": "          A         B      C\n0  0.000000  0.000000    big\n1  0.926219  0.363636  small\n2  0.935335  0.628645    big\n3  1.000000  0.961407  small\n4  0.938495  1.000000  small",
      "text/html": "<div>\n<style scoped>\n    .dataframe tbody tr th:only-of-type {\n        vertical-align: middle;\n    }\n\n    .dataframe tbody tr th {\n        vertical-align: top;\n    }\n\n    .dataframe thead th {\n        text-align: right;\n    }\n</style>\n<table border=\"1\" class=\"dataframe\">\n  <thead>\n    <tr style=\"text-align: right;\">\n      <th></th>\n      <th>A</th>\n      <th>B</th>\n      <th>C</th>\n    </tr>\n  </thead>\n  <tbody>\n    <tr>\n      <th>0</th>\n      <td>0.000000</td>\n      <td>0.000000</td>\n      <td>big</td>\n    </tr>\n    <tr>\n      <th>1</th>\n      <td>0.926219</td>\n      <td>0.363636</td>\n      <td>small</td>\n    </tr>\n    <tr>\n      <th>2</th>\n      <td>0.935335</td>\n      <td>0.628645</td>\n      <td>big</td>\n    </tr>\n    <tr>\n      <th>3</th>\n      <td>1.000000</td>\n      <td>0.961407</td>\n      <td>small</td>\n    </tr>\n    <tr>\n      <th>4</th>\n      <td>0.938495</td>\n      <td>1.000000</td>\n      <td>small</td>\n    </tr>\n  </tbody>\n</table>\n</div>"
     },
     "execution_count": 90,
     "metadata": {},
     "output_type": "execute_result"
    }
   ],
   "source": [
    "import pandas as pd\n",
    "from sklearn.preprocessing import MinMaxScaler\n",
    "scaler = MinMaxScaler()\n",
    "dfTest = pd.DataFrame({ 'A':[14.00,90.20,90.95,96.27,91.21],\n",
    "                        'B':[103.02,107.26,110.35,114.23,114.68],\n",
    "                        'C':['big','small','big','small','small']})\n",
    "dfTest[['A','B']]=scaler.fit_transform(dfTest[['A','B']])\n",
    "dfTest\n"
   ],
   "metadata": {
    "collapsed": false
   }
  },
  {
   "cell_type": "markdown",
   "source": [
    "### 3.3.1 Задание\n",
    "Загрузить фрейм данных по ссылке:\n",
    "https://raw.githubusercontent.com/akmand/datasets/master/iris.csv.\n",
    "Необходимо выполнить нормализацию первого числового признака\n",
    "(sepal_length_cm) с использованием минимаксного преобразования, а\n",
    "второго (sepal_width_cm) с задействованием z-масштабирования."
   ],
   "metadata": {
    "collapsed": false
   }
  },
  {
   "cell_type": "code",
   "execution_count": 107,
   "outputs": [
    {
     "data": {
      "text/plain": "array([[5.1],\n       [4.9],\n       [4.7],\n       [4.6],\n       [5. ],\n       [5.4],\n       [4.6],\n       [5. ],\n       [4.4],\n       [4.9],\n       [5.4],\n       [4.8],\n       [4.8],\n       [4.3],\n       [5.8],\n       [5.7],\n       [5.4],\n       [5.1],\n       [5.7],\n       [5.1],\n       [5.4],\n       [5.1],\n       [4.6],\n       [5.1],\n       [4.8],\n       [5. ],\n       [5. ],\n       [5.2],\n       [5.2],\n       [4.7],\n       [4.8],\n       [5.4],\n       [5.2],\n       [5.5],\n       [4.9],\n       [5. ],\n       [5.5],\n       [4.9],\n       [4.4],\n       [5.1],\n       [5. ],\n       [4.5],\n       [4.4],\n       [5. ],\n       [5.1],\n       [4.8],\n       [5.1],\n       [4.6],\n       [5.3],\n       [5. ],\n       [7. ],\n       [6.4],\n       [6.9],\n       [5.5],\n       [6.5],\n       [5.7],\n       [6.3],\n       [4.9],\n       [6.6],\n       [5.2],\n       [5. ],\n       [5.9],\n       [6. ],\n       [6.1],\n       [5.6],\n       [6.7],\n       [5.6],\n       [5.8],\n       [6.2],\n       [5.6],\n       [5.9],\n       [6.1],\n       [6.3],\n       [6.1],\n       [6.4],\n       [6.6],\n       [6.8],\n       [6.7],\n       [6. ],\n       [5.7],\n       [5.5],\n       [5.5],\n       [5.8],\n       [6. ],\n       [5.4],\n       [6. ],\n       [6.7],\n       [6.3],\n       [5.6],\n       [5.5],\n       [5.5],\n       [6.1],\n       [5.8],\n       [5. ],\n       [5.6],\n       [5.7],\n       [5.7],\n       [6.2],\n       [5.1],\n       [5.7],\n       [6.3],\n       [5.8],\n       [7.1],\n       [6.3],\n       [6.5],\n       [7.6],\n       [4.9],\n       [7.3],\n       [6.7],\n       [7.2],\n       [6.5],\n       [6.4],\n       [6.8],\n       [5.7],\n       [5.8],\n       [6.4],\n       [6.5],\n       [7.7],\n       [7.7],\n       [6. ],\n       [6.9],\n       [5.6],\n       [7.7],\n       [6.3],\n       [6.7],\n       [7.2],\n       [6.2],\n       [6.1],\n       [6.4],\n       [7.2],\n       [7.4],\n       [7.9],\n       [6.4],\n       [6.3],\n       [6.1],\n       [7.7],\n       [6.3],\n       [6.4],\n       [6. ],\n       [6.9],\n       [6.7],\n       [6.9],\n       [5.8],\n       [6.8],\n       [6.7],\n       [6.7],\n       [6.3],\n       [6.5],\n       [6.2],\n       [5.9]])"
     },
     "execution_count": 107,
     "metadata": {},
     "output_type": "execute_result"
    }
   ],
   "source": [
    "import pandas as pd\n",
    "from sklearn import preprocessing\n",
    "\n",
    "url = 'https://raw.githubusercontent.com/akmand/datasets/master/iris.csv'\n",
    "\n",
    "dataframe = pd.read_csv(url)\n",
    "feature = np.array(dataframe['sepal_length_cm']).reshape(-1,1)\n",
    "scaler = preprocessing.MinMaxScaler()\n",
    "feature_res = scaler.fit_transform(feature)\n",
    "feature\n"
   ],
   "metadata": {
    "collapsed": false
   }
  },
  {
   "cell_type": "code",
   "execution_count": 108,
   "outputs": [
    {
     "data": {
      "text/plain": "array([[ 1.03205722],\n       [-0.1249576 ],\n       [ 0.33784833],\n       [ 0.10644536],\n       [ 1.26346019],\n       [ 1.95766909],\n       [ 0.80065426],\n       [ 0.80065426],\n       [-0.35636057],\n       [ 0.10644536],\n       [ 1.49486315],\n       [ 0.80065426],\n       [-0.1249576 ],\n       [-0.1249576 ],\n       [ 2.18907205],\n       [ 3.11468391],\n       [ 1.95766909],\n       [ 1.03205722],\n       [ 1.72626612],\n       [ 1.72626612],\n       [ 0.80065426],\n       [ 1.49486315],\n       [ 1.26346019],\n       [ 0.56925129],\n       [ 0.80065426],\n       [-0.1249576 ],\n       [ 0.80065426],\n       [ 1.03205722],\n       [ 0.80065426],\n       [ 0.33784833],\n       [ 0.10644536],\n       [ 0.80065426],\n       [ 2.42047502],\n       [ 2.65187798],\n       [ 0.10644536],\n       [ 0.33784833],\n       [ 1.03205722],\n       [ 0.10644536],\n       [-0.1249576 ],\n       [ 0.80065426],\n       [ 1.03205722],\n       [-1.74477836],\n       [ 0.33784833],\n       [ 1.03205722],\n       [ 1.72626612],\n       [-0.1249576 ],\n       [ 1.72626612],\n       [ 0.33784833],\n       [ 1.49486315],\n       [ 0.56925129],\n       [ 0.33784833],\n       [ 0.33784833],\n       [ 0.10644536],\n       [-1.74477836],\n       [-0.58776353],\n       [-0.58776353],\n       [ 0.56925129],\n       [-1.51337539],\n       [-0.35636057],\n       [-0.8191665 ],\n       [-2.43898725],\n       [-0.1249576 ],\n       [-1.97618132],\n       [-0.35636057],\n       [-0.35636057],\n       [ 0.10644536],\n       [-0.1249576 ],\n       [-0.8191665 ],\n       [-1.97618132],\n       [-1.28197243],\n       [ 0.33784833],\n       [-0.58776353],\n       [-1.28197243],\n       [-0.58776353],\n       [-0.35636057],\n       [-0.1249576 ],\n       [-0.58776353],\n       [-0.1249576 ],\n       [-0.35636057],\n       [-1.05056946],\n       [-1.51337539],\n       [-1.51337539],\n       [-0.8191665 ],\n       [-0.8191665 ],\n       [-0.1249576 ],\n       [ 0.80065426],\n       [ 0.10644536],\n       [-1.74477836],\n       [-0.1249576 ],\n       [-1.28197243],\n       [-1.05056946],\n       [-0.1249576 ],\n       [-1.05056946],\n       [-1.74477836],\n       [-0.8191665 ],\n       [-0.1249576 ],\n       [-0.35636057],\n       [-0.35636057],\n       [-1.28197243],\n       [-0.58776353],\n       [ 0.56925129],\n       [-0.8191665 ],\n       [-0.1249576 ],\n       [-0.35636057],\n       [-0.1249576 ],\n       [-0.1249576 ],\n       [-1.28197243],\n       [-0.35636057],\n       [-1.28197243],\n       [ 1.26346019],\n       [ 0.33784833],\n       [-0.8191665 ],\n       [-0.1249576 ],\n       [-1.28197243],\n       [-0.58776353],\n       [ 0.33784833],\n       [-0.1249576 ],\n       [ 1.72626612],\n       [-1.05056946],\n       [-1.97618132],\n       [ 0.33784833],\n       [-0.58776353],\n       [-0.58776353],\n       [-0.8191665 ],\n       [ 0.56925129],\n       [ 0.33784833],\n       [-0.58776353],\n       [-0.1249576 ],\n       [-0.58776353],\n       [-0.1249576 ],\n       [-0.58776353],\n       [ 1.72626612],\n       [-0.58776353],\n       [-0.58776353],\n       [-1.05056946],\n       [-0.1249576 ],\n       [ 0.80065426],\n       [ 0.10644536],\n       [-0.1249576 ],\n       [ 0.10644536],\n       [ 0.10644536],\n       [ 0.10644536],\n       [-0.8191665 ],\n       [ 0.33784833],\n       [ 0.56925129],\n       [-0.1249576 ],\n       [-1.28197243],\n       [-0.1249576 ],\n       [ 0.80065426],\n       [-0.1249576 ]])"
     },
     "execution_count": 108,
     "metadata": {},
     "output_type": "execute_result"
    }
   ],
   "source": [
    "scaler_st = preprocessing.StandardScaler()\n",
    "feature = np.array(dataframe['sepal_width_cm']).reshape(-1,1)\n",
    "feature_std = scaler_st.fit_transform(feature)\n",
    "feature_std"
   ],
   "metadata": {
    "collapsed": false
   }
  },
  {
   "cell_type": "markdown",
   "source": [],
   "metadata": {
    "collapsed": false
   }
  }
 ],
 "metadata": {
  "kernelspec": {
   "display_name": "Python 3",
   "language": "python",
   "name": "python3"
  },
  "language_info": {
   "codemirror_mode": {
    "name": "ipython",
    "version": 2
   },
   "file_extension": ".py",
   "mimetype": "text/x-python",
   "name": "python",
   "nbconvert_exporter": "python",
   "pygments_lexer": "ipython2",
   "version": "2.7.6"
  }
 },
 "nbformat": 4,
 "nbformat_minor": 0
}
