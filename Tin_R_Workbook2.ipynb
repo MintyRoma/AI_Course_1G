{
 "cells": [
  {
   "cell_type": "markdown",
   "source": [
    "# Библиотека NumPy\n",
    "NumPy (NumericalPython) - это библиотека Python с открытым\n",
    "исходным кодом, которая используется практически во всех областях науки\n",
    "и техники. Это универсальный стандарт для работы с числовыми данными в\n",
    "Python.\n",
    "Если у вас уже есть Python, вы можете установить NumPy с помощью\n",
    "командной строки:\n",
    " pip install numpy\n",
    "Чтобы начать использовать NumPy необходимо импортировать\n",
    "соответствующую библиотеку:\n",
    " `import numpy as np`\n",
    "Основным объектом NumPy является однородный многомерный\n",
    "массив (в numpy называется numpy.ndarray). Это многомерный массив\n",
    "элементов (обычно чисел), одного типа.\n",
    "Наиболее важные атрибуты объектов ndarray:\n",
    "- **ndarray.ndim** - число измерений (чаще их называют \"оси\") массива.\n",
    "- **ndarray.shape** - размеры массива, его форма. Это кортеж натуральных\n",
    "чисел, показывающий длину массива по каждой оси. Для матрицы из n строк\n",
    "и m столбов, shape будет (n,m). Число элементов кортежа shape равно ndim.\n",
    "- **ndarray.size** - количество элементов массива. Очевидно, равно\n",
    "произведению всех элементов атрибута shape.\n",
    "- **ndarray.dtype** - объект, описывающий тип элементов массива. Можно\n",
    "определить dtype, используя стандартные типы данных Python. NumPy здесь\n",
    "предоставляет целый букет возможностей, как встроенных, например: bool_,\n",
    "character, int8, int16, int32, int64, float8, float16, float32, float64, complex64,\n",
    "object_, так и возможность определить собственные типы данных, в том\n",
    "числе и составные.\n",
    "- **ndarray.itemsize** - размер каждого элемента массива в байтах.\n",
    "- **ndarray.data** - буфер, содержащий фактические элементы массива.\n",
    "Обычно не нужно использовать этот атрибут, так как обращаться к\n",
    "элементам массива проще всего с помощью индексов.\n",
    "Подробнее о массивах в NumPy можно найти в официальной\n",
    "документации https://numpy.org/doc/stable/user/absolute_beginners.html"
   ],
   "metadata": {
    "collapsed": false
   }
  },
  {
   "cell_type": "markdown",
   "source": [
    "### 1.2.1 Пример\n",
    "\n",
    "Создать массив 5x2. Вывести все значения массива,\n",
    "значение элемента с индексом (3,1) и второй столбец. Индексация\n",
    "начинается с нуля."
   ],
   "metadata": {
    "collapsed": false
   }
  },
  {
   "cell_type": "code",
   "execution_count": 5,
   "outputs": [
    {
     "name": "stdout",
     "output_type": "stream",
     "text": [
      "[[ 1  2]\n",
      " [ 3  4]\n",
      " [ 5  6]\n",
      " [ 7  8]\n",
      " [ 9 10]]\n",
      "8\n",
      "[3 4]\n"
     ]
    }
   ],
   "source": [
    "import numpy as np\n",
    "x = np.array([[1,2],[3,4],[5,6],[7,8],[9,10]])\n",
    "print(x)\n",
    "print(x[3][1])\n",
    "print(x[1])"
   ],
   "metadata": {
    "collapsed": false
   }
  },
  {
   "cell_type": "markdown",
   "source": [
    "### 1.2.2 Пример\n",
    "Пример. Выполнить следующее:\n",
    "1. Создать вектор (одномерный массив) размера 10, заполненный\n",
    "нулями.\n",
    "2. Создать вектор размера 10, заполненный единицами.\n",
    "3. Создать вектор размера 10, заполненный заданным числом.\n",
    "4. Создать вектор со значениями от 10 до 19."
   ],
   "metadata": {
    "collapsed": false
   }
  },
  {
   "cell_type": "code",
   "execution_count": 7,
   "outputs": [
    {
     "name": "stdout",
     "output_type": "stream",
     "text": [
      "[0. 0. 0. 0. 0. 0. 0. 0. 0. 0.] \n",
      " [1. 1. 1. 1. 1. 1. 1. 1. 1. 1.] \n",
      " [5 5 5 5 5 5 5 5 5 5] \n",
      " [10 11 12 13 14 15 16 17 18 19] \n",
      "\n"
     ]
    }
   ],
   "source": [
    "import numpy as np\n",
    "\n",
    "a = np.zeros(10)\n",
    "b = np.ones(10)\n",
    "c = np.full(10,5)\n",
    "d = np.arange(10,20)\n",
    "print(a,\"\\n\",b,\"\\n\",c,\"\\n\",d,\"\\n\")"
   ],
   "metadata": {
    "collapsed": false
   }
  },
  {
   "cell_type": "markdown",
   "source": [
    "### 1.2.3 Пример\n",
    "Создать массив 10x10 со случайными значениями, найти минимум,\n",
    "максимум и среднее значение."
   ],
   "metadata": {
    "collapsed": false
   }
  },
  {
   "cell_type": "code",
   "execution_count": 8,
   "outputs": [
    {
     "name": "stdout",
     "output_type": "stream",
     "text": [
      "0.00433806990030472 0.9756037149839829 0.4627565445417157\n"
     ]
    }
   ],
   "source": [
    "X = np.random.random((10,10))\n",
    "Xmin, Xmax, Xmean, = X.min(), X.max(), X.mean()\n",
    "print(Xmin, Xmax, Xmean)"
   ],
   "metadata": {
    "collapsed": false
   }
  },
  {
   "cell_type": "markdown",
   "source": [
    "### 1.2.4 Пример\n",
    "Задать матрицу размерности 5 на 5 и поменять 2 строки в матрице местами."
   ],
   "metadata": {
    "collapsed": false
   }
  },
  {
   "cell_type": "code",
   "execution_count": 9,
   "outputs": [
    {
     "name": "stdout",
     "output_type": "stream",
     "text": [
      "[[ 5  6  7  8  9]\n",
      " [ 0  1  2  3  4]\n",
      " [10 11 12 13 14]\n",
      " [15 16 17 18 19]\n",
      " [20 21 22 23 24]]\n"
     ]
    }
   ],
   "source": [
    "K = np.arange(25).reshape(5,5)\n",
    "K[[0,1]] = K[[1,0]]\n",
    "print(K)"
   ],
   "metadata": {
    "collapsed": false
   }
  },
  {
   "cell_type": "markdown",
   "source": [
    "### 1.2.5 Пример\n",
    "Выяснить результат следующих выражений:\n",
    "0 * np.nan\n",
    "np.nan == np.nan\n",
    "np.inf > np.nan\n",
    "np.nan - np.nan\n",
    "0.3 == 3 * 0.1"
   ],
   "metadata": {
    "collapsed": false
   }
  },
  {
   "cell_type": "code",
   "execution_count": 10,
   "outputs": [
    {
     "name": "stdout",
     "output_type": "stream",
     "text": [
      "nan\n",
      "False\n",
      "False\n",
      "nan\n",
      "False\n"
     ]
    }
   ],
   "source": [
    "import numpy as np\n",
    "print(0*np.nan)\n",
    "print(np.nan==np.nan)\n",
    "print(np.inf>np.nan)\n",
    "print(np.nan-np.nan)\n",
    "print(0.3 == 3*0.1)"
   ],
   "metadata": {
    "collapsed": false
   }
  },
  {
   "cell_type": "markdown",
   "source": [
    "### 1.2.6 Пример\n",
    "Отсортировать массив."
   ],
   "metadata": {
    "collapsed": false
   }
  },
  {
   "cell_type": "code",
   "execution_count": 11,
   "outputs": [
    {
     "name": "stdout",
     "output_type": "stream",
     "text": [
      "[1 2 3 4 5 6 7 8]\n"
     ]
    }
   ],
   "source": [
    "import numpy as np\n",
    "arr = np.array([2,8,5,4,1,3,7,6])\n",
    "print(np.sort(arr))"
   ],
   "metadata": {
    "collapsed": false
   }
  },
  {
   "cell_type": "markdown",
   "source": [
    "### 1.3.1 Задание\n",
    "Создать 8x8 матрицу и заполнить её в шахматном порядке нулями и единицами."
   ],
   "metadata": {
    "collapsed": false
   }
  },
  {
   "cell_type": "code",
   "execution_count": 86,
   "outputs": [
    {
     "name": "stdout",
     "output_type": "stream",
     "text": [
      "[[0 1 0 1 0 1 0 1]\n",
      " [1 0 1 0 1 0 1 0]\n",
      " [0 1 0 1 0 1 0 1]\n",
      " [1 0 1 0 1 0 1 0]\n",
      " [0 1 0 1 0 1 0 1]\n",
      " [1 0 1 0 1 0 1 0]\n",
      " [0 1 0 1 0 1 0 1]\n",
      " [1 0 1 0 1 0 1 0]]\n"
     ]
    }
   ],
   "source": [
    "import numpy as np\n",
    "size = 8\n",
    "arr = np.full((size,size),0)\n",
    "for line in arr[0:size:2]:\n",
    "    line[np.mod(np.arange(0,size),2)!=0]=1\n",
    "for line in arr[1:size:2]:\n",
    "    line[np.mod(np.arange(size)+1,2)!=0]=1\n",
    "print(arr)"
   ],
   "metadata": {
    "collapsed": false
   }
  },
  {
   "cell_type": "markdown",
   "source": [
    "### 1.3.2 Задание\n",
    "Создать 5x5 матрицу со значениями в строках от 0 до 4. Для создания необходимо использовать функцию arrange."
   ],
   "metadata": {
    "collapsed": false
   }
  },
  {
   "cell_type": "code",
   "execution_count": 90,
   "outputs": [
    {
     "name": "stdout",
     "output_type": "stream",
     "text": [
      "[[0 1 2 3 4]\n",
      " [0 1 2 3 4]\n",
      " [0 1 2 3 4]\n",
      " [0 1 2 3 4]\n",
      " [0 1 2 3 4]]\n"
     ]
    }
   ],
   "source": [
    "import numpy as np\n",
    "\n",
    "sample = np.arange(5)\n",
    "arr = np.full((5,5),sample)\n",
    "print(arr)"
   ],
   "metadata": {
    "collapsed": false
   }
  },
  {
   "cell_type": "markdown",
   "source": [
    "### 1.3.3 Задание\n",
    "Создать массив 3x3x3 со случайными значениями"
   ],
   "metadata": {
    "collapsed": false
   }
  },
  {
   "cell_type": "code",
   "execution_count": 92,
   "outputs": [
    {
     "name": "stdout",
     "output_type": "stream",
     "text": [
      "[[[0.47921131 0.23006963 0.90365568]\n",
      "  [0.27904662 0.78140358 0.460416  ]\n",
      "  [0.26676811 0.74426371 0.24599734]]\n",
      "\n",
      " [[0.48896719 0.19472616 0.48567536]\n",
      "  [0.5527851  0.92530965 0.60248458]\n",
      "  [0.83500298 0.47415633 0.65414222]]\n",
      "\n",
      " [[0.4710312  0.49372073 0.57519482]\n",
      "  [0.81664887 0.83572509 0.01822079]\n",
      "  [0.05308503 0.21597604 0.42106337]]]\n"
     ]
    }
   ],
   "source": [
    "import numpy as np\n",
    "\n",
    "arr = np.random.random((3,3,3))\n",
    "print(arr)"
   ],
   "metadata": {
    "collapsed": false
   }
  },
  {
   "cell_type": "markdown",
   "source": [
    "### 1.3.4 Задание\n",
    "Создать матрицу с 0 внутри, и 1 на границах."
   ],
   "metadata": {
    "collapsed": false
   }
  },
  {
   "cell_type": "code",
   "execution_count": 106,
   "outputs": [
    {
     "name": "stdout",
     "output_type": "stream",
     "text": [
      "[[1 1 1 1 1 1 1 1 1 1]\n",
      " [1 0 0 0 0 0 0 0 0 1]\n",
      " [1 0 0 0 0 0 0 0 0 1]\n",
      " [1 0 0 0 0 0 0 0 0 1]\n",
      " [1 0 0 0 0 0 0 0 0 1]\n",
      " [1 0 0 0 0 0 0 0 0 1]\n",
      " [1 0 0 0 0 0 0 0 0 1]\n",
      " [1 0 0 0 0 0 0 0 0 1]\n",
      " [1 0 0 0 0 0 0 0 0 1]\n",
      " [1 1 1 1 1 1 1 1 1 1]]\n"
     ]
    }
   ],
   "source": [
    "import numpy as np\n",
    "\n",
    "arr = np.full((10,10),1)\n",
    "for line in arr[1:9:1]:\n",
    "    line[1:9:1]=0\n",
    "print(arr)"
   ],
   "metadata": {
    "collapsed": false
   }
  },
  {
   "cell_type": "markdown",
   "source": [
    "### 1.3.5 Задание\n",
    "Создайте массив и отсортируйте его по убыванию."
   ],
   "metadata": {
    "collapsed": false
   }
  },
  {
   "cell_type": "code",
   "execution_count": 114,
   "outputs": [
    {
     "name": "stdout",
     "output_type": "stream",
     "text": [
      "[9 8 7 6 6 5 4 3 3 2 1 1 0]\n"
     ]
    }
   ],
   "source": [
    "import numpy as np\n",
    "arr = np.array([1,9,3,6,8,7,5,2,0,3,6,4,1])\n",
    "print(-np.sort(-arr))"
   ],
   "metadata": {
    "collapsed": false
   }
  },
  {
   "cell_type": "markdown",
   "source": [
    "### 1.3.6 Задание\n",
    "Создайте матрицу, выведите ее форму, размер и размерность."
   ],
   "metadata": {
    "collapsed": false
   }
  },
  {
   "cell_type": "code",
   "execution_count": 119,
   "outputs": [
    {
     "name": "stdout",
     "output_type": "stream",
     "text": [
      "[[0 3 9 5 6]\n",
      " [3 6 8 9 0]\n",
      " [3 3 4 7 5]]\n",
      "Size:  15\n",
      "Shape:  (3, 5)\n",
      "Dimension:  2\n"
     ]
    }
   ],
   "source": [
    "import numpy as np\n",
    "\n",
    "matr = np.array([[0,3,9,5,6],[3,6,8,9,0],[3,3,4,7,5]])\n",
    "print(matr)\n",
    "print(\"Size: \",matr.size)\n",
    "print(\"Shape: \", matr.shape)\n",
    "print(\"Dimension: \", matr.ndim)"
   ],
   "metadata": {
    "collapsed": false
   }
  }
 ],
 "metadata": {
  "kernelspec": {
   "display_name": "Python 3",
   "language": "python",
   "name": "python3"
  },
  "language_info": {
   "codemirror_mode": {
    "name": "ipython",
    "version": 2
   },
   "file_extension": ".py",
   "mimetype": "text/x-python",
   "name": "python",
   "nbconvert_exporter": "python",
   "pygments_lexer": "ipython2",
   "version": "2.7.6"
  }
 },
 "nbformat": 4,
 "nbformat_minor": 0
}
