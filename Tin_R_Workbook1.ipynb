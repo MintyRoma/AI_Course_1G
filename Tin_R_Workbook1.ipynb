{
 "cells": [
  {
   "cell_type": "markdown",
   "metadata": {},
   "source": [
    "# Типы данных\n",
    "Все типы данных в Python относятся к одной из 2-х категорий:\n",
    "изменяемые (mutable) и неизменяемые (immutable).\n",
    "\n",
    "\n",
    "Неизменяемые объекты:\n",
    "- числовые данные (int, float),\n",
    "-  bool,\n",
    "- None,\n",
    "- символьные строки (class 'str'),\n",
    "- кортежи (tuple).\n",
    "\n",
    "Изменяемые объекты:\n",
    "- списки (list),\n",
    "- множества (set),\n",
    "- словари (dict).\n"
   ]
  },
  {
   "cell_type": "markdown",
   "metadata": {},
   "source": [
    "### 1.2 Пример\n",
    "\n",
    "Выведите на печать и определите тип переменной"
   ]
  },
  {
   "cell_type": "code",
   "execution_count": 126,
   "metadata": {},
   "outputs": [
    {
     "name": "stdout",
     "output_type": "stream",
     "text": [
      "39.4 | <class 'float'> \n",
      " None | <class 'NoneType'> \n",
      " ('a', 5, 12.345, (2, 'b')) | <class 'tuple'> \n",
      " [['Антонова Антонина', 34, 'ж'], ['Борисов Борис', 26, 'м']] | <class 'list'> \n",
      " {1, 2, 'title', 'content'} | <class 'set'>\n"
     ]
    }
   ],
   "source": [
    "x = 3+5.2*7\n",
    "y=None\n",
    "z='a',5,12.345,(2,'b')\n",
    "df = [\n",
    "    ['Антонова Антонина', 34,'ж'],\n",
    "    ['Борисов Борис', 26,'м']\n",
    "]\n",
    "A={\n",
    "    1,'title',\n",
    "    2,'content'\n",
    "}\n",
    "\n",
    "print(x,'|',type(x),'\\n',\n",
    "      y,'|',type(y),'\\n',\n",
    "      z,'|',type(z),'\\n',\n",
    "      df,'|',type(df),'\\n',\n",
    "      A,'|',type(A))"
   ]
  },
  {
   "cell_type": "markdown",
   "metadata": {},
   "source": [
    "### 1.3 Задание\n",
    "Выведите на печать и определите тип переменной"
   ]
  },
  {
   "cell_type": "code",
   "execution_count": 127,
   "metadata": {},
   "outputs": [
    {
     "name": "stdout",
     "output_type": "stream",
     "text": [
      "True | <class 'bool'> \n",
      " {8, 1, 3, 7} | <class 'set'> \n",
      " {2, 4, 5, 10, 'apple'} | <class 'set'> \n",
      " set() | <class 'set'> \n",
      " ('Антонова Антонина', 34, 'ж') | <class 'tuple'> \n",
      " type | <class 'str'> \n",
      " [1, 'title', 2, 'content'] | <class 'list'> \n",
      "\n"
     ]
    }
   ],
   "source": [
    "x = 5 >=2\n",
    "A = {1,3,7,8}\n",
    "B = {2,4,5,10,'apple'}\n",
    "C = A & B\n",
    "df = 'Антонова Антонина', 34, 'ж'\n",
    "z = 'type'\n",
    "D = [1,'title',\n",
    "     2, 'content']\n",
    "\n",
    "print(x, \"|\", type(x), \"\\n\",\n",
    "      A, \"|\", type(A), \"\\n\",\n",
    "      B, \"|\", type(B), \"\\n\",\n",
    "      C, \"|\", type(C), \"\\n\",\n",
    "      df, \"|\", type(df), \"\\n\",\n",
    "      z, \"|\", type(z), \"\\n\",\n",
    "      D, \"|\", type(D), \"\\n\")"
   ]
  },
  {
   "cell_type": "markdown",
   "metadata": {},
   "source": [
    "# 2.1 Теоретический материал\n",
    "\n",
    "## Условный оператор\n",
    "\n",
    "В коде часто приходится проверять выполнимость или\n",
    "невыполнимость каких-то условий.\n",
    "\n",
    "Синтаксис:\n",
    "\n",
    "if <условие1 (булевское выражение) :\n",
    "    <код, который выполнится, если условие верно>\n",
    "\n",
    "\n",
    "elif <условие2 (булевское выражение)>:\n",
    "\n",
    "    <код, который выполнится, если условие1 было неверно, а условие2 верно>\n",
    "\n",
    "else:\n",
    "\n",
    "    <код, который выполнится, если условие1 и условие2 были неверны>\n",
    "\n",
    "\n",
    "Обратите внимание, что код, который должен выполняться внутри\n",
    "каждого условия, записывается с отступом в 4 пробела от уровня if, elif и\n",
    "else: в питоне области видимости переменных обозначаются отступами.\n",
    "\n",
    "__То есть, отступы позволяют понять, где начинается код,\n",
    "который должен выполняться при выполнении условия в if, и где\n",
    "заканчивается.__"
   ]
  },
  {
   "cell_type": "markdown",
   "source": [
    "## 2.2 Пример\n",
    "Вывести на экран является ли переменная х положительной, отрицательной или равна нулю."
   ],
   "metadata": {
    "collapsed": false
   }
  },
  {
   "cell_type": "code",
   "execution_count": 128,
   "outputs": [
    {
     "name": "stdout",
     "output_type": "stream",
     "text": [
      "x положительный\n"
     ]
    }
   ],
   "source": [
    "x = 125\n",
    "if x<0:\n",
    "    print(\"x отрицательный\")\n",
    "elif x==0:\n",
    "    print(\"x равен нулю\")\n",
    "else:\n",
    "    print(\"x положительный\")"
   ],
   "metadata": {
    "collapsed": false
   }
  },
  {
   "cell_type": "markdown",
   "source": [
    "## 2.3 Задание\n",
    "Напишите код. Задается х, напечатать какому из интервалов принадлежит: (-infinity, -5), \\[-5, 5] или от (5, +infinity)"
   ],
   "metadata": {
    "collapsed": false
   }
  },
  {
   "cell_type": "code",
   "execution_count": 129,
   "outputs": [
    {
     "name": "stdout",
     "output_type": "stream",
     "text": [
      "x принадлежит интервалу (5,+inf)\n"
     ]
    }
   ],
   "source": [
    "x = 125\n",
    "if x < -5:\n",
    "    print(\"x принадлежит интервалу (-inf,-5)\")\n",
    "elif x>5:\n",
    "    print(\"x принадлежит интервалу (5,+inf)\")\n",
    "else:\n",
    "    print(\"x принадлежит интервалу [-5,5]\")"
   ],
   "metadata": {
    "collapsed": false
   }
  },
  {
   "cell_type": "markdown",
   "source": [
    "# 3.1. Теоретический материал - Циклы, массивы, срезы\n",
    "\n",
    "## Циклы - for и while\n",
    "\n",
    "Цикл while проверяет истинность условия, и если условие истинно, то\n",
    "выполняет инструкции цикла.\n",
    "Синтаксис:\n",
    "while условие:\n",
    " инструкции\n",
    "Инструкции, которые относятся к циклу while, располагаются на\n",
    "последующих строках и должны иметь отступ от начала ключевого слова\n",
    "while.\n",
    "Цикл for проходит по набору значений, помещает каждое значение в\n",
    "переменную с которой в цикле можно производить различные действия.\n",
    "Синтаксис:\n",
    "for переменная in набор_значений:\n",
    " инструкции\n",
    "После ключевого слова for идет название переменной, в которую\n",
    "будут помещаться значения. После оператора in указывается набор значений\n",
    "и двоеточие. Инструкции, которые относятся к циклу, располагаются на\n",
    "последующих строках и должны иметь отступ.\n",
    "При создании цикла удобно пользоваться функцией range(a, b),\n",
    "которая создает последовательность чисел от a до b-1."
   ],
   "metadata": {
    "collapsed": false
   }
  },
  {
   "cell_type": "markdown",
   "source": [
    "## 3.2.1 Пример\n",
    "Вывести все числа от 1 до 10 с шагом 3"
   ],
   "metadata": {
    "collapsed": false
   }
  },
  {
   "cell_type": "code",
   "execution_count": 130,
   "outputs": [
    {
     "name": "stdout",
     "output_type": "stream",
     "text": [
      "1\n",
      "4\n",
      "7\n",
      "10\n"
     ]
    }
   ],
   "source": [
    "x = 1\n",
    "while x <=10:\n",
    "    print(x)\n",
    "    x+=3"
   ],
   "metadata": {
    "collapsed": false
   }
  },
  {
   "cell_type": "markdown",
   "source": [
    "## 3.2.2 Пример\n",
    "Задан список, напечатать все элементы списка."
   ],
   "metadata": {
    "collapsed": false
   }
  },
  {
   "cell_type": "code",
   "execution_count": 131,
   "outputs": [
    {
     "name": "stdout",
     "output_type": "stream",
     "text": [
      "KNN\n",
      "decision tree\n",
      "linear model\n"
     ]
    }
   ],
   "source": [
    "models = [\n",
    "    'KNN',\n",
    "    'decision tree',\n",
    "    'linear model'\n",
    "]\n",
    "for model in models:\n",
    "    print(model)"
   ],
   "metadata": {
    "collapsed": false
   }
  },
  {
   "cell_type": "markdown",
   "source": [
    "## 3.2.3 Пример\n",
    "Создать список от 1 до 99 с шагом 7."
   ],
   "metadata": {
    "collapsed": false
   }
  },
  {
   "cell_type": "code",
   "execution_count": 132,
   "outputs": [
    {
     "name": "stdout",
     "output_type": "stream",
     "text": [
      "[1, 8, 15, 22, 29, 36, 43, 50, 57, 64, 71, 78, 85, 92, 99]\n"
     ]
    }
   ],
   "source": [
    "list_int = range(1,100,7)\n",
    "print(list(list_int))"
   ],
   "metadata": {
    "collapsed": false
   }
  },
  {
   "cell_type": "markdown",
   "source": [
    "## 3.2.4 Пример\n",
    "Вывести на экран числа от 1 до 105 с шагом 25 используя функцию range()"
   ],
   "metadata": {
    "collapsed": false
   }
  },
  {
   "cell_type": "code",
   "execution_count": 133,
   "outputs": [
    {
     "name": "stdout",
     "output_type": "stream",
     "text": [
      "5\n",
      "30\n",
      "55\n",
      "80\n",
      "105\n"
     ]
    }
   ],
   "source": [
    "for i in range(5,106,25):\n",
    "    print(i)"
   ],
   "metadata": {
    "collapsed": false
   }
  },
  {
   "cell_type": "markdown",
   "source": [
    "## 3.2.5 Пример\n",
    "**Срез** необходимо получить каждый k-й элемент массива, а, начиная с элемента с индексом i (включительно) и заканчивая элементом с индексом j (не включительно), с шагом 2. Или переставить все элементы в обратном порядке."
   ],
   "metadata": {
    "collapsed": false
   }
  },
  {
   "cell_type": "code",
   "execution_count": 134,
   "outputs": [
    {
     "name": "stdout",
     "output_type": "stream",
     "text": [
      "[2, 4, 6]\n",
      "[9, 8, 7, 6, 5, 4, 3, 2, 1]\n"
     ]
    }
   ],
   "source": [
    "a = [1,2,3,4,5,6,7,8,9]\n",
    "b = a[1:7:2]\n",
    "c=a[::-1]\n",
    "print(b)\n",
    "print(c)"
   ],
   "metadata": {
    "collapsed": false
   }
  },
  {
   "cell_type": "markdown",
   "source": [
    "## 3.3.1 Задание\n",
    "Выведите числа из примера на while (3.2.1) в обратном порядке"
   ],
   "metadata": {
    "collapsed": false
   }
  },
  {
   "cell_type": "code",
   "execution_count": 135,
   "outputs": [
    {
     "name": "stdout",
     "output_type": "stream",
     "text": [
      "10\n",
      "7\n",
      "4\n",
      "1\n"
     ]
    }
   ],
   "source": [
    "x = 10\n",
    "while x>=1:\n",
    "    print(x)\n",
    "    x-=3"
   ],
   "metadata": {
    "collapsed": false
   }
  },
  {
   "cell_type": "markdown",
   "source": [
    "## 3.3.2 Задание\n",
    "При решении задач машинного обучения часто в качестве объектов\n",
    "исследования выступает человек. Создайте список значимых\n",
    "характеристик (признаков), идентифицирующих человека. Выведите\n",
    "список на экран.\n"
   ],
   "metadata": {
    "collapsed": false
   }
  },
  {
   "cell_type": "code",
   "execution_count": 136,
   "outputs": [
    {
     "name": "stdout",
     "output_type": "stream",
     "text": [
      "Name\n",
      "Surname\n",
      "Sex\n",
      "Height\n",
      "Weight\n",
      "Age\n",
      "Race\n"
     ]
    }
   ],
   "source": [
    "human_description = [\n",
    "    'Name',\n",
    "    'Surname',\n",
    "    'Sex',\n",
    "    'Height',\n",
    "    'Weight',\n",
    "    'Age',\n",
    "    'Race'\n",
    "]\n",
    "for meta in human_description:\n",
    "    print(meta)"
   ],
   "metadata": {
    "collapsed": false
   }
  },
  {
   "cell_type": "markdown",
   "source": [
    "## 3.3.3 Задание\n",
    "Создать список чисел от 2 до 15 с шагом 1."
   ],
   "metadata": {
    "collapsed": false
   }
  },
  {
   "cell_type": "code",
   "execution_count": 137,
   "outputs": [
    {
     "name": "stdout",
     "output_type": "stream",
     "text": [
      "[2, 3, 4, 5, 6, 7, 8, 9, 10, 11, 12, 13, 14, 15]\n"
     ]
    }
   ],
   "source": [
    "int_list = range(2,16,1)\n",
    "print(list(int_list))"
   ],
   "metadata": {
    "collapsed": false
   }
  },
  {
   "cell_type": "markdown",
   "source": [
    "## 3.3.4 Задание\n",
    "Выведите числа из примера на for с функцией range() (3.2.4) в обратном порядке."
   ],
   "metadata": {
    "collapsed": false
   }
  },
  {
   "cell_type": "code",
   "execution_count": 138,
   "outputs": [
    {
     "name": "stdout",
     "output_type": "stream",
     "text": [
      "106\n",
      "105\n",
      "104\n",
      "103\n",
      "102\n",
      "101\n",
      "100\n",
      "99\n",
      "98\n",
      "97\n",
      "96\n",
      "95\n",
      "94\n",
      "93\n",
      "92\n",
      "91\n",
      "90\n",
      "89\n",
      "88\n",
      "87\n",
      "86\n",
      "85\n",
      "84\n",
      "83\n",
      "82\n",
      "81\n",
      "80\n",
      "79\n",
      "78\n",
      "77\n",
      "76\n",
      "75\n",
      "74\n",
      "73\n",
      "72\n",
      "71\n",
      "70\n",
      "69\n",
      "68\n",
      "67\n",
      "66\n",
      "65\n",
      "64\n",
      "63\n",
      "62\n",
      "61\n",
      "60\n",
      "59\n",
      "58\n",
      "57\n",
      "56\n",
      "55\n",
      "54\n",
      "53\n",
      "52\n",
      "51\n",
      "50\n",
      "49\n",
      "48\n",
      "47\n",
      "46\n",
      "45\n",
      "44\n",
      "43\n",
      "42\n",
      "41\n",
      "40\n",
      "39\n",
      "38\n",
      "37\n",
      "36\n",
      "35\n",
      "34\n",
      "33\n",
      "32\n",
      "31\n",
      "30\n",
      "29\n",
      "28\n",
      "27\n",
      "26\n",
      "25\n",
      "24\n",
      "23\n",
      "22\n",
      "21\n",
      "20\n",
      "19\n",
      "18\n",
      "17\n",
      "16\n",
      "15\n",
      "14\n",
      "13\n",
      "12\n",
      "11\n",
      "10\n",
      "9\n",
      "8\n",
      "7\n",
      "6\n"
     ]
    }
   ],
   "source": [
    "for i in range(106,5,-1):\n",
    "    print(i)"
   ],
   "metadata": {
    "collapsed": false
   }
  },
  {
   "cell_type": "markdown",
   "source": [
    "## 3.3.5\n",
    "**Срез**. Напишите код, который все элементы массива x с четными индексами переставит в обратном порядке. Т.е. если x = [0,1,2,3,4,5,6,7,8,9], то код должен сформировать [8,1,6,3,4,5,2,7,0,9]"
   ],
   "metadata": {
    "collapsed": false
   }
  },
  {
   "cell_type": "code",
   "execution_count": 139,
   "outputs": [
    {
     "name": "stdout",
     "output_type": "stream",
     "text": [
      "[8, 1, 6, 3, 4, 5, 2, 7, 0, 9]\n"
     ]
    }
   ],
   "source": [
    "x = [0,1,2,3,4,5,6,7,8,9]\n",
    "chet = x[::2]\n",
    "reverse = chet[::-1]\n",
    "for i in x:\n",
    "    if i%2==0:\n",
    "        x[i]=reverse[int(i/2)]\n",
    "print(list(x))"
   ],
   "metadata": {
    "collapsed": false
   }
  },
  {
   "cell_type": "markdown",
   "source": [
    "# 4.1 Теоретический материал - Библиотеки\n",
    "Машинное обучение опирается на фундаментальные понятия и законы\n",
    "математики и информатики. Библиотека математических функций (math)\n",
    "применяется при решении большинства прикладных задач анализа данных.\n",
    "Также, и некоторые другие библиотеки Python содержат математические\n",
    "функции (например, NumPy). Важную роль играет библиотека matplotlib,\n",
    "которая позволяет производить визуализацию расчетов в удобной для\n",
    "восприятия человеком форме: графики, диаграммы, гистограммы.\n",
    "Подключение библиотек – синтаксис:\n",
    "import math as m\n",
    "import numpy as np\n",
    "import matplotlib.pyplot as plt\n",
    "etc…\n",
    "Библиотеки в python содержат не только функции, позволяющие решать\n",
    "различные задачи, но и некоторые популярные константы, например число\n",
    "Эйлера."
   ],
   "metadata": {
    "collapsed": false
   }
  },
  {
   "cell_type": "markdown",
   "source": [
    "## 4.2.1 Пример\n",
    "Рассчитайте синус от e радиан и вывести результат на экран"
   ],
   "metadata": {
    "collapsed": false
   }
  },
  {
   "cell_type": "code",
   "execution_count": 140,
   "outputs": [
    {
     "name": "stdout",
     "output_type": "stream",
     "text": [
      "0.41078129050290885\n"
     ]
    }
   ],
   "source": [
    "import math as m\n",
    "print(m.sin(m.e))"
   ],
   "metadata": {
    "collapsed": false
   }
  },
  {
   "cell_type": "markdown",
   "source": [
    "## 4.2.2 Пример\n",
    "Для функции sin(𝑥𝑒\n",
    "cos(𝑥)\n",
    ") на интервале [0;10] с шагом 0,05 построить\n",
    "график функции, закрасить площадь под ним и вычислить значение\n",
    "этой площади.\n",
    "Для вычисления площади воспользуйте функции trapz(), вычисляющей\n",
    "интеграл по правилу трапеции. Для ее корректной работы необходимо\n",
    "подключить следующие библиотеки:\n",
    "from scipy.integrate import simps\n",
    "from numpy import trapz"
   ],
   "metadata": {
    "collapsed": false
   }
  },
  {
   "cell_type": "code",
   "execution_count": 141,
   "outputs": [
    {
     "name": "stdout",
     "output_type": "stream",
     "text": [
      "73.50792907748662\n"
     ]
    },
    {
     "data": {
      "text/plain": "<Figure size 640x480 with 1 Axes>",
      "image/png": "[encoded data removed]"
     },
     "metadata": {},
     "output_type": "display_data"
    }
   ],
   "source": [
    "import numpy as np\n",
    "import matplotlib.pyplot as plt\n",
    "from scipy.integrate import simps\n",
    "from numpy import trapz\n",
    "x = np.arange(0.0,10,0.1)\n",
    "y = np.abs(np.sin(x*np.exp(np.cos(x))))\n",
    "plt.grid()\n",
    "plt.plot(x,y,c = \"r\")\n",
    "plt.fill_between(x,y)\n",
    "area=trapz(y)\n",
    "print(area)"
   ],
   "metadata": {
    "collapsed": false
   }
  },
  {
   "cell_type": "markdown",
   "source": [
    "## 4.2.4 Пример\n",
    "Дано некоторое распределение оценок в группе за экзамен. Нарисовать\n",
    "круговую и точечную диаграммы распределения."
   ],
   "metadata": {
    "collapsed": false
   }
  },
  {
   "cell_type": "code",
   "execution_count": 142,
   "outputs": [
    {
     "data": {
      "text/plain": "<Figure size 1000x700 with 1 Axes>",
      "image/png": "[encoded data removed]"
     },
     "metadata": {},
     "output_type": "display_data"
    },
    {
     "data": {
      "text/plain": "<matplotlib.collections.PathCollection at 0x210c6796fb0>"
     },
     "execution_count": 142,
     "metadata": {},
     "output_type": "execute_result"
    },
    {
     "data": {
      "text/plain": "<Figure size 640x480 with 1 Axes>",
      "image/png": "[encoded data removed]"
     },
     "metadata": {},
     "output_type": "display_data"
    }
   ],
   "source": [
    "from matplotlib import pyplot as plt\n",
    "import numpy as np\n",
    "\n",
    "marks = [\"Неуд\", \"Уловл\", \"Хор\", \"Отл\"]\n",
    "\n",
    "data = [3,7,8,4]\n",
    "fig = plt.figure(figsize=(10,7))\n",
    "plt.pie(data, labels = marks)\n",
    "plt.show()\n",
    "plt.grid()\n",
    "plt.scatter(marks,data)"
   ],
   "metadata": {
    "collapsed": false
   }
  },
  {
   "cell_type": "markdown",
   "source": [
    "##4.2.1 Задание\n",
    "Задайте массив случайных значений из интервала(0; 1).\n",
    "Рассчитайте средние и медианные значения для массива, сравните\n",
    "результаты, какие выводы можно сделать о значениях?\n",
    "Постройте точечную диаграмму рассения полученного ряда.\n"
   ],
   "metadata": {
    "collapsed": false
   }
  },
  {
   "cell_type": "code",
   "execution_count": 143,
   "outputs": [
    {
     "name": "stdout",
     "output_type": "stream",
     "text": [
      "AVG: 0.4688820450806316\n",
      "MED: 0.43292911262020506\n"
     ]
    },
    {
     "data": {
      "text/plain": "<matplotlib.collections.PathCollection at 0x210c6895660>"
     },
     "execution_count": 143,
     "metadata": {},
     "output_type": "execute_result"
    },
    {
     "data": {
      "text/plain": "<Figure size 640x480 with 1 Axes>",
      "image/png": "[encoded data removed]"
     },
     "metadata": {},
     "output_type": "display_data"
    }
   ],
   "source": [
    "import numpy as nump\n",
    "from matplotlib import pyplot as plot\n",
    "import random\n",
    "\n",
    "data = []\n",
    "for i in range(10):\n",
    "    data.append(random.random())\n",
    "average = nump.average(data)\n",
    "print(f\"AVG: {average}\")\n",
    "med = nump.median(data)\n",
    "print(f\"MED: {med}\")\n",
    "plot.grid()\n",
    "plot.scatter(data,data)\n",
    "\n"
   ],
   "metadata": {
    "collapsed": false
   }
  },
  {
   "cell_type": "markdown",
   "source": [
    "## 4.3.2 Задание\n",
    "Дана функция\n",
    "\n",
    "Создать массив из 10 значений\n",
    "функции (𝑥, например, изменяется от 1 до 10). Выделить срез первой\n",
    "половины массива и построить графики для основного массива –\n",
    "линейный и для среза – точечный"
   ],
   "metadata": {
    "collapsed": false
   }
  },
  {
   "cell_type": "code",
   "execution_count": 144,
   "outputs": [
    {
     "name": "stderr",
     "output_type": "stream",
     "text": [
      "C:\\Users\\srdhe\\AppData\\Local\\Temp\\ipykernel_11932\\1021985654.py:7: RuntimeWarning: divide by zero encountered in log\n",
      "  return (up/down)+nump.log(nump.abs(2*x))\n"
     ]
    },
    {
     "data": {
      "text/plain": "<Figure size 640x480 with 1 Axes>",
      "image/png": "[encoded data removed]"
     },
     "metadata": {},
     "output_type": "display_data"
    },
    {
     "data": {
      "text/plain": "<matplotlib.collections.PathCollection at 0x210c697dc30>"
     },
     "execution_count": 144,
     "metadata": {},
     "output_type": "execute_result"
    },
    {
     "data": {
      "text/plain": "<Figure size 640x480 with 1 Axes>",
      "image/png": "[encoded data removed]"
     },
     "metadata": {},
     "output_type": "display_data"
    }
   ],
   "source": [
    "import numpy as nump\n",
    "import matplotlib.pyplot as plot\n",
    "\n",
    "def formula(x):\n",
    "    up = nump.sqrt(1+nump.power(nump.e,nump.sqrt(x))+nump.cos(nump.power(x,2)))\n",
    "    down = nump.abs(1-nump.power(nump.sin(x),3))\n",
    "    return (up/down)+nump.log(nump.abs(2*x))\n",
    "\n",
    "data = []\n",
    "for i in range(11):\n",
    "    data.append(formula(i))\n",
    "\n",
    "srez = data[0:6]\n",
    "plot.grid()\n",
    "plot.plot(range(0,11),data,c=\"r\")\n",
    "plot.fill_between(range(0,11),data)\n",
    "plot.show()\n",
    "plot.scatter(range(0,6),srez)"
   ],
   "metadata": {
    "collapsed": false
   }
  },
  {
   "cell_type": "markdown",
   "source": [
    "## 4.3.3 Задание\n",
    "Дана функция |cos(𝑥𝑒\n",
    "(cos(𝑥)+ln(𝑥+1))\n",
    ")| Построить график на\n",
    "интервале (0,10) с шагом 1 с заливкой площади и найти эту площадь\n",
    "под ним. Для вычисления площади воспользуйте функции trapz(),\n",
    "вычисляющей интеграл по правилу трапеции.\n",
    "Для ее корректной работы необходимо подключить следующие\n",
    "библиотеки:\n",
    "from scipy.integrate import simps\n",
    "from numpy import trapz"
   ],
   "metadata": {
    "collapsed": false
   }
  },
  {
   "cell_type": "code",
   "execution_count": 145,
   "outputs": [
    {
     "data": {
      "text/plain": "<Figure size 640x480 with 1 Axes>",
      "image/png": "[encoded data removed]"
     },
     "metadata": {},
     "output_type": "display_data"
    },
    {
     "name": "stdout",
     "output_type": "stream",
     "text": [
      "6.748183214657723\n"
     ]
    }
   ],
   "source": [
    "import numpy as n\n",
    "import matplotlib.pyplot as plot\n",
    "from scipy.integrate import simps\n",
    "from numpy import trapz\n",
    "\n",
    "def formula(x):\n",
    "    internal = n.cos(x)+n.log(x+1)\n",
    "    xe = x*n.power(n.e,internal)\n",
    "    return n.abs(n.cos(xe))\n",
    "\n",
    "data = []\n",
    "for i in range(11):\n",
    "    data.append(formula(i))\n",
    "\n",
    "plot.grid()\n",
    "plot.plot(range(0,11),data)\n",
    "plot.fill_between(range(0,11),data)\n",
    "plot.show()\n",
    "area = trapz(data)\n",
    "print(area)"
   ],
   "metadata": {
    "collapsed": false
   }
  },
  {
   "cell_type": "markdown",
   "source": [
    "## 4.3.4 Задание\n",
    "\n",
    "Откройте статистические данные по стоимости акций Apple,\n",
    "Microsoft, Google за 12 месяцев 2021 г. Постройте 3 графика на\n",
    "плоскости и оцените их динамику. Подумайте, как можно улучшить\n",
    "читаемость результатов.\n",
    "Для начальных данных допустимо использовать следующий ресурс:\n",
    "https://finance.yahoo.com\n"
   ],
   "metadata": {
    "collapsed": false
   }
  },
  {
   "cell_type": "code",
   "execution_count": 146,
   "outputs": [
    {
     "name": "stdout",
     "output_type": "stream",
     "text": [
      "                                 Open        High         Low       Close  \\\n",
      "Date                                                                        \n",
      "2022-02-18 00:00:00-05:00  133.037506  133.824005  130.307053  130.467499   \n",
      "2022-02-22 00:00:00-05:00  129.985001  131.900757  127.740997  129.402496   \n",
      "2022-02-23 00:00:00-05:00  131.078506  131.748993  127.503502  127.584999   \n",
      "2022-02-24 00:00:00-05:00  125.000000  133.037003  124.764503  132.673492   \n",
      "2022-02-25 00:00:00-05:00  133.525497  135.389008  131.764999  134.519501   \n",
      "...                               ...         ...         ...         ...   \n",
      "2023-02-13 00:00:00-05:00   95.010002   95.349998   94.050003   95.000000   \n",
      "2023-02-14 00:00:00-05:00   94.660004   95.175003   92.650002   94.949997   \n",
      "2023-02-15 00:00:00-05:00   94.739998   97.339996   94.360001   97.099998   \n",
      "2023-02-16 00:00:00-05:00   95.540001   97.879997   94.970001   95.779999   \n",
      "2023-02-17 00:00:00-05:00   95.070000   95.750000   93.449997   94.589996   \n",
      "\n",
      "                             Volume  Dividends  Stock Splits  \n",
      "Date                                                          \n",
      "2022-02-18 00:00:00-05:00  31858000        0.0           0.0  \n",
      "2022-02-22 00:00:00-05:00  38906000        0.0           0.0  \n",
      "2022-02-23 00:00:00-05:00  26432000        0.0           0.0  \n",
      "2022-02-24 00:00:00-05:00  43166000        0.0           0.0  \n",
      "2022-02-25 00:00:00-05:00  26236000        0.0           0.0  \n",
      "...                             ...        ...           ...  \n",
      "2023-02-13 00:00:00-05:00  43116600        0.0           0.0  \n",
      "2023-02-14 00:00:00-05:00  42513100        0.0           0.0  \n",
      "2023-02-15 00:00:00-05:00  37029900        0.0           0.0  \n",
      "2023-02-16 00:00:00-05:00  35642100        0.0           0.0  \n",
      "2023-02-17 00:00:00-05:00  31074100        0.0           0.0  \n",
      "\n",
      "[251 rows x 7 columns]\n"
     ]
    }
   ],
   "source": [
    "import numpy as nump\n",
    "import matplotlib.pyplot as plot\n",
    "import yfinance as stocks\n",
    "\n",
    "google = stocks.Ticker(\"GOOG\")\n",
    "print(google.history(period=\"1y\"))"
   ],
   "metadata": {
    "collapsed": false
   }
  }
 ],
 "metadata": {
  "kernelspec": {
   "display_name": "Python 3 (ipykernel)",
   "language": "python",
   "name": "python3"
  },
  "language_info": {
   "codemirror_mode": {
    "name": "ipython",
    "version": 3
   },
   "file_extension": ".py",
   "mimetype": "text/x-python",
   "name": "python",
   "nbconvert_exporter": "python",
   "pygments_lexer": "ipython3",
   "version": "3.10.8"
  }
 },
 "nbformat": 4,
 "nbformat_minor": 1
}
